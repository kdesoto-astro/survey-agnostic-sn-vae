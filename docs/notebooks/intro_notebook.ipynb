{
 "cells": [
  {
   "cell_type": "markdown",
   "id": "accepting-editor",
   "metadata": {
    "cell_marker": "\"\"\""
   },
   "source": [
    "# Experimenting with Package Functions\n",
    "\n",
    "IN PROGRESS"
   ]
  },
  {
   "cell_type": "markdown",
   "id": "coral-upper",
   "metadata": {
    "cell_marker": "\"\"\"",
    "lines_to_next_cell": 1
   },
   "source": [
    "## (1) Data generation with MOSFIT"
   ]
  },
  {
   "cell_type": "code",
   "execution_count": 1,
   "id": "6d3fe66f-6834-4ef2-b7f2-f8354d1a6427",
   "metadata": {
    "tags": []
   },
   "outputs": [
    {
     "name": "stdout",
     "output_type": "stream",
     "text": [
      "/Users/kdesoto/multisurvey_data\n",
      "Switching to MOSFIT path: /Users/kdesoto/python_repos/MOSFiT/mosfit\n",
      "Switching back to original working directory\n"
     ]
    }
   ],
   "source": [
    "from survey_agnostic_sn_vae.data_generation.mosfit2 import *\n",
    "from survey_agnostic_sn_vae.data_generation.objects import *\n",
    "import os\n",
    "\n",
    "# remove previous objects in dict\n",
    "OUTPUT_PATH = '/Users/kdesoto/multisurvey_data'\n",
    "\n",
    "os.makedirs(OUTPUT_PATH+\"/transients\", exist_ok=True)\n",
    "\n",
    "for f in glob.glob(OUTPUT_PATH+\"/transients/*\"):\n",
    "    os.remove(f)\n",
    "    \n",
    "lsst_survey = Survey(\n",
    "    'LSST',\n",
    "    ['u', 'g', 'r', 'i', 'z', 'y'],\n",
    "    3.0\n",
    ")\n",
    "ztf_survey = Survey(\n",
    "    'ZTF',\n",
    "    ['g', 'r'],\n",
    "    2.0\n",
    ")\n",
    "generate_LCs_from_model(\n",
    "    'slsn',\n",
    "    [lsst_survey, ztf_survey],\n",
    "    10,\n",
    "    output_path=OUTPUT_PATH\n",
    ");"
   ]
  },
  {
   "cell_type": "code",
   "execution_count": 2,
   "id": "457edbf4-2016-4ab5-b99d-ef26bb532c3e",
   "metadata": {
    "tags": []
   },
   "outputs": [
    {
     "name": "stdout",
     "output_type": "stream",
     "text": [
      "[<survey_agnostic_sn_vae.data_generation.objects.LightCurve object at 0x1400d7bb0>, <survey_agnostic_sn_vae.data_generation.objects.LightCurve object at 0x1082617b0>]\n"
     ]
    }
   ],
   "source": [
    "from survey_agnostic_sn_vae.data_generation.objects import *\n",
    "\n",
    "OUTPUT_PATH = '/Users/kdesoto/multisurvey_data'\n",
    "\n",
    "# Now, load Transient object\n",
    "all_transient_fns = glob.glob(OUTPUT_PATH+\"/transients/*\")\n",
    "test_transient = Transient.load(\n",
    "    all_transient_fns[0],\n",
    ")\n",
    "print(test_transient.lightcurves) # should be 2"
   ]
  },
  {
   "cell_type": "code",
   "execution_count": null,
   "id": "5881bf72-f0fb-4a6c-8dbc-8b8bedb316d2",
   "metadata": {},
   "outputs": [],
   "source": []
  }
 ],
 "metadata": {
  "jupytext": {
   "cell_markers": "\"\"\""
  },
  "kernelspec": {
   "display_name": "multimodal_env2",
   "language": "python",
   "name": "multimodal_env2"
  },
  "language_info": {
   "codemirror_mode": {
    "name": "ipython",
    "version": 3
   },
   "file_extension": ".py",
   "mimetype": "text/x-python",
   "name": "python",
   "nbconvert_exporter": "python",
   "pygments_lexer": "ipython3",
   "version": "3.10.13"
  }
 },
 "nbformat": 4,
 "nbformat_minor": 5
}
