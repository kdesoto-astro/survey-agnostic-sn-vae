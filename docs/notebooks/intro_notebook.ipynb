{
 "cells": [
  {
   "cell_type": "markdown",
   "id": "accepting-editor",
   "metadata": {
    "cell_marker": "\"\"\""
   },
   "source": [
    "# Experimenting with Package Functions\n",
    "\n",
    "IN PROGRESS"
   ]
  },
  {
   "cell_type": "markdown",
   "id": "coral-upper",
   "metadata": {
    "cell_marker": "\"\"\"",
    "lines_to_next_cell": 1
   },
   "source": [
    "## (1) Data generation with MOSFIT"
   ]
  },
  {
   "cell_type": "code",
   "execution_count": 4,
   "id": "6d3fe66f-6834-4ef2-b7f2-f8354d1a6427",
   "metadata": {
    "tags": []
   },
   "outputs": [
    {
     "name": "stdout",
     "output_type": "stream",
     "text": [
      "\n",
      "Loading data...\n",
      "\u001b[F\u001b[K\u001b[F\u001b[K\n",
      "Loading module `transient` [ 0% ]\n",
      "\u001b[F\u001b[K\u001b[F\u001b[K\n",
      "Loading module `lumdist` [ 2% ]\n",
      "\u001b[F\u001b[K\u001b[F\u001b[K\n",
      "Loading module `redshift` [ 5% ]\n",
      "\u001b[F\u001b[K\u001b[F\u001b[K\n",
      "Loading module `alltimes` [ 7% ]\n",
      "\u001b[F\u001b[K\u001b[F\u001b[K\n",
      "Loading module `texplosion` [ 10% ]\n",
      "\u001b[F\u001b[K\u001b[F\u001b[K\n",
      "Loading module `resttimes` [ 12% ]\n",
      "\u001b[F\u001b[K\u001b[F\u001b[K\n",
      "Loading module `densetimes` [ 15% ]\n",
      "\u001b[F\u001b[K\u001b[F\u001b[K\n",
      "Loading module `Pspin` [ 17% ]\n",
      "\u001b[F\u001b[K\u001b[F\u001b[K\n",
      "Loading module `Bfield` [ 20% ]\n",
      "\u001b[F\u001b[K\u001b[F\u001b[K\n",
      "Loading module `Mns` [ 22% ]\n",
      "\u001b[F\u001b[K\u001b[F\u001b[K\n",
      "Loading module `thetaPB` [ 24% ]\n",
      "\u001b[F\u001b[K\u001b[F\u001b[K\n",
      "Loading module `mejecta` [ 27% ]\n",
      "\u001b[F\u001b[K\u001b[F\u001b[K\n",
      "Loading module `kappa` [ 29% ]\n",
      "\u001b[F\u001b[K\u001b[F\u001b[K\n",
      "Loading module `kappagamma` [ 32% ]\n",
      "\u001b[F\u001b[K\u001b[F\u001b[K\n",
      "Loading module `vejecta` [ 34% ]\n",
      "\u001b[F\u001b[K\u001b[F\u001b[K\n",
      "Loading module `magnetar` [ 37% ]\n",
      "\u001b[F\u001b[K\u001b[F\u001b[K\n",
      "Loading module `temperature` [ 39% ]\n",
      "\u001b[F\u001b[K\u001b[F\u001b[K\n",
      "Loading module `diffusion` [ 41% ]\n",
      "\u001b[F\u001b[K\u001b[F\u001b[K\n",
      "Loading module `cutoff_wavelength` [ 44% ]\n",
      "\u001b[F\u001b[K\u001b[F\u001b[K\n",
      "Loading module `temperature_floor` [ 46% ]\n",
      "\u001b[F\u001b[K\u001b[F\u001b[K\n",
      "Loading module `ebv` [ 49% ]\n",
      "\u001b[F\u001b[K\u001b[F\u001b[K\n",
      "Loading module `rvhost` [ 51% ]\n",
      "\u001b[F\u001b[K\u001b[F\u001b[K\n",
      "Loading module `nhhost` [ 54% ]\n",
      "\u001b[F\u001b[K\u001b[F\u001b[K\n",
      "Loading module `blackbody_cutoff` [ 56% ]\n",
      "\u001b[F\u001b[K\u001b[F\u001b[K\n",
      "Loading module `losextinction` [ 59% ]\n",
      "\u001b[F\u001b[K\u001b[F\u001b[K\n",
      "Loading module `default_upper_limit_error` [ 61% ]\n",
      "\u001b[F\u001b[K\u001b[F\u001b[K\n",
      "Loading module `default_no_error_bar_error` [ 63% ]\n",
      "\u001b[F\u001b[K\u001b[F\u001b[K\n",
      "Loading module `variance` [ 66% ]\n",
      "\u001b[F\u001b[K\u001b[F\u001b[K\n",
      "Loading module `codeltatime` [ 68% ]\n",
      "\u001b[F\u001b[K\u001b[F\u001b[K\n",
      "Loading module `codeltalambda` [ 71% ]\n",
      "\u001b[F\u001b[K\u001b[F\u001b[K\n",
      "Loading module `photometry` [ 73% ]\n",
      "\u001b[F\u001b[K\u001b[F\u001b[K\n",
      "Loading module `fitkernel` [ 76% ]\n",
      "\u001b[F\u001b[K\u001b[F\u001b[K\n",
      "Loading module `neutrino_energy` [ 78% ]\n",
      "\u001b[F\u001b[K\u001b[F\u001b[K\n",
      "Loading module `tnebular_min` [ 80% ]\n",
      "\u001b[F\u001b[K\u001b[F\u001b[K\n",
      "Loading module `diagonal` [ 83% ]\n",
      "\u001b[F\u001b[K\u001b[F\u001b[K\n",
      "Loading module `oakernel` [ 85% ]\n",
      "\u001b[F\u001b[K\u001b[F\u001b[K\n",
      "Loading module `aokernel` [ 88% ]\n",
      "\u001b[F\u001b[K\u001b[F\u001b[K\n",
      "Loading module `fullkernel` [ 90% ]\n",
      "\u001b[F\u001b[K\u001b[F\u001b[K\n",
      "Loading module `slsn_constraints` [ 93% ]\n",
      "\u001b[F\u001b[K\u001b[F\u001b[K\n",
      "Loading module `likelihood` [ 95% ]\n",
      "\u001b[F\u001b[K\u001b[F\u001b[K\n",
      "Loading module `fitlc` [ 98% ]\n",
      "\u001b[F\u001b[K\u001b[F\u001b[K\n",
      "Finding bands...\n",
      "\u001b[38;5;220mWarning: Luminosity distance less than 1 Mpc (`10.0` pc), setting redshift to 0.\u001b[0m\n",
      "Loading bands [ 17% ]\n",
      "\u001b[F\u001b[KLoading bands [ 33% ]\n",
      "\u001b[F\u001b[KLoading bands [ 50% ]\n",
      "\u001b[F\u001b[KLoading bands [ 67% ]\n",
      "\u001b[F\u001b[KLoading bands [ 83% ]\n",
      "\u001b[F\u001b[KLoading bands complete.\n",
      "\n",
      "Bands being used for current transient:\n",
      "  LSST/LSST.u [AB offset: 0]\n",
      "  LSST/LSST.g [AB offset: 0]\n",
      "  LSST/LSST.r [AB offset: 0]\n",
      "  LSST/LSST.i [AB offset: 0]\n",
      "  LSST/LSST.z [AB offset: 0]\n",
      "  LSST/LSST.y [AB offset: 0]\n",
      "Keys in output: `name, times, magnitudes, e_magnitudes, e_upper_magnitudes, e_lower_magnitudes, zeropoints, bands, frequencies, u_frequencies, fluxdensities, u_fluxdensities, e_fluxdensities, e_upper_fluxdensities, e_lower_fluxdensities, countrates, e_countrates, u_countrates, e_upper_countrates, e_lower_countrates, telescopes, instruments, bandsets, systems, modes, upperlimits, includeshosts, hosts, kcorrecteds, scorrecteds, realizations, sources, min_times, max_times, min_magnitudes, max_magnitudes, min_e_magnitudes, max_e_magnitudes, measures, root, fraction, fractions, lumdist, redshift, all_measures, all_zeropoints, all_modes, all_u_frequencies, all_bandsets, all_instruments, all_frequencies, all_systems, all_telescopes, all_times, all_bands, all_band_indices, observation_types, observed, texplosion, reference_texplosion, rest_times, resttexplosion, dense_times, dense_indices, Pspin, Bfield, Mns, thetaPB, mejecta, kappa, kappagamma, vejecta, dense_luminosities, temperature, tau_diffusion, cutoff_wavelength, radiusphot, temperaturephot, ebv, rvhost, nhhost, sample_wavelengths, seds, avhost, default_upper_limit_error, default_no_error_bar_error, variance, codeltatime, codeltalambda, model_observations, abandvs, obandvs, kdiagonal, kresiduals, band_indices, model_variances`\n"
     ]
    }
   ],
   "source": [
    "from survey_agnostic_sn_vae.data_generation.mosfit import *\n",
    "from survey_agnostic_sn_vae.data_generation.objects import *\n",
    "import os\n",
    "\n",
    "lsst_survey = Survey(\n",
    "    'LSST',\n",
    "    ['u', 'g', 'r', 'i', 'z', 'y'],\n",
    "    3\n",
    ")\n",
    "os.chdir('/Users/kdesoto/conda_envs/multimodal_env2/lib/python3.10/site-packages/mosfit/')\n",
    "generate_LCs_from_model('slsn', [lsst_survey,], 100)"
   ]
  },
  {
   "cell_type": "code",
   "execution_count": null,
   "id": "457edbf4-2016-4ab5-b99d-ef26bb532c3e",
   "metadata": {},
   "outputs": [],
   "source": []
  },
  {
   "cell_type": "code",
   "execution_count": null,
   "id": "5881bf72-f0fb-4a6c-8dbc-8b8bedb316d2",
   "metadata": {},
   "outputs": [],
   "source": []
  }
 ],
 "metadata": {
  "jupytext": {
   "cell_markers": "\"\"\""
  },
  "kernelspec": {
   "display_name": "multimodal_env2",
   "language": "python",
   "name": "multimodal_env2"
  },
  "language_info": {
   "codemirror_mode": {
    "name": "ipython",
    "version": 3
   },
   "file_extension": ".py",
   "mimetype": "text/x-python",
   "name": "python",
   "nbconvert_exporter": "python",
   "pygments_lexer": "ipython3",
   "version": "3.10.13"
  }
 },
 "nbformat": 4,
 "nbformat_minor": 5
}
