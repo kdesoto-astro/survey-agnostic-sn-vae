{
 "cells": [
  {
   "cell_type": "markdown",
   "id": "accepting-editor",
   "metadata": {
    "cell_marker": "\"\"\"",
    "tags": []
   },
   "source": [
    "# Experimenting with Package Functions\n",
    "\n",
    "IN PROGRESS"
   ]
  },
  {
   "cell_type": "markdown",
   "id": "coral-upper",
   "metadata": {
    "cell_marker": "\"\"\"",
    "lines_to_next_cell": 1
   },
   "source": [
    "## (1) Data generation with MOSFIT"
   ]
  },
  {
   "cell_type": "code",
   "execution_count": 1,
   "id": "6d3fe66f-6834-4ef2-b7f2-f8354d1a6427",
   "metadata": {
    "tags": []
   },
   "outputs": [
    {
     "name": "stdout",
     "output_type": "stream",
     "text": [
      "Switching to MOSFIT path: /Users/kdesoto/python_repos/MOSFiT/mosfit\n",
      "Switching back to original working directory\n",
      "Switching to MOSFIT path: /Users/kdesoto/python_repos/MOSFiT/mosfit\n",
      "Switching back to original working directory\n",
      "Switching to MOSFIT path: /Users/kdesoto/python_repos/MOSFiT/mosfit\n",
      "Switching back to original working directory\n",
      "Switching to MOSFIT path: /Users/kdesoto/python_repos/MOSFiT/mosfit\n",
      "Switching back to original working directory\n"
     ]
    }
   ],
   "source": [
    "from survey_agnostic_sn_vae.data_generation.mosfit2 import *\n",
    "from survey_agnostic_sn_vae.data_generation.objects import *\n",
    "import os\n",
    "\n",
    "OUTPUT_PATH = os.getcwd()\n",
    "\n",
    "os.makedirs(OUTPUT_PATH+\"/transients\", exist_ok=True)\n",
    "\n",
    "for f in glob.glob(OUTPUT_PATH+\"/transients/*\"):\n",
    "    os.remove(f)\n",
    "    \n",
    "lsst_cadence = {\n",
    "    'u': 25.0,\n",
    "    'g': 17.0,\n",
    "    'r': 6.0,\n",
    "    'i': 7.0,\n",
    "    'z': 8.0,\n",
    "    'y': 8.0\n",
    "}\n",
    "\n",
    "panstarrs_cadence = {b: 3.0 for b in ['g', 'r', 'i', 'z']}\n",
    "\n",
    "lsst_survey = Survey(\n",
    "    'LSST',\n",
    "    ['u', 'g', 'r', 'i', 'z', 'y'],\n",
    "    lsst_cadence\n",
    ")\n",
    "ztf_survey = Survey(\n",
    "    'ZTF',\n",
    "    ['g', 'r'],\n",
    "    2.0 # band sampling coupled\n",
    ")\n",
    "panstarrs_survey = Survey(\n",
    "    'PanSTARRS',\n",
    "    ['g', 'r', 'i', 'z'],\n",
    "    panstarrs_cadence\n",
    ")\n",
    "\n",
    "generate_LCs_from_model(\n",
    "    'slsn',\n",
    "    [lsst_survey, ztf_survey, panstarrs_survey],\n",
    "    1,\n",
    "    output_path=OUTPUT_PATH\n",
    ");"
   ]
  },
  {
   "cell_type": "code",
   "execution_count": 2,
   "id": "457edbf4-2016-4ab5-b99d-ef26bb532c3e",
   "metadata": {
    "tags": []
   },
   "outputs": [
    {
     "name": "stdout",
     "output_type": "stream",
     "text": [
      "[<survey_agnostic_sn_vae.data_generation.objects.LightCurve object at 0x107ebdde0>, <survey_agnostic_sn_vae.data_generation.objects.LightCurve object at 0x107a2faf0>, <survey_agnostic_sn_vae.data_generation.objects.LightCurve object at 0x107a2ca60>]\n",
      "['g' 'i' 'r' 'u' 'y' 'z']\n",
      "['u', 'g', 'r', 'i', 'z', 'y']\n",
      "23.867\n",
      "['g' 'r']\n",
      "['g', 'r']\n",
      "20.433\n",
      "['g' 'i' 'r' 'z']\n",
      "['g', 'r', 'i', 'z']\n",
      "22.66\n"
     ]
    }
   ],
   "source": [
    "from survey_agnostic_sn_vae.data_generation.objects import *\n",
    "\n",
    "OUTPUT_PATH = os.getcwd()\n",
    "\n",
    "# Now, load Transient object\n",
    "all_transient_fns = glob.glob(OUTPUT_PATH+\"/transients/*\")\n",
    "test_transient = Transient.load(\n",
    "    all_transient_fns[0],\n",
    ")\n",
    "print(test_transient.lightcurves) # should be 2\n",
    "for lc in test_transient.lightcurves:\n",
    "    print(lc.bands)\n",
    "    print(lc.survey.bands)\n",
    "    print(lc.survey.limiting_magnitude)"
   ]
  },
  {
   "cell_type": "code",
   "execution_count": 2,
   "id": "5881bf72-f0fb-4a6c-8dbc-8b8bedb316d2",
   "metadata": {},
   "outputs": [
    {
     "name": "stdout",
     "output_type": "stream",
     "text": [
      "(236, 6, 2)\n",
      "(316, 6, 2)\n",
      "(262, 6, 2)\n",
      "(372, 6, 2)\n",
      "(248, 6, 2)\n",
      "(332, 6, 2)\n",
      "(254, 6, 2)\n",
      "(352, 6, 2)\n",
      "(230, 6, 2)\n",
      "(304, 6, 2)\n",
      "(256, 6, 2)\n",
      "(344, 6, 2)\n",
      "(262, 6, 2)\n",
      "(372, 6, 2)\n",
      "(256, 6, 2)\n",
      "(340, 6, 2)\n",
      "(252, 6, 2)\n",
      "(356, 6, 2)\n"
     ]
    },
    {
     "name": "stderr",
     "output_type": "stream",
     "text": [
      "2024-01-24 13:47:28 Saved to /Users/kdesoto/python_repos/survey-agnostic-sn-vae/docs/notebooks/superraenn/lcs_2024-01-24.npz\n"
     ]
    },
    {
     "name": "stdout",
     "output_type": "stream",
     "text": [
      "(230, 6, 2)\n",
      "(308, 6, 2)\n"
     ]
    }
   ],
   "source": [
    "import os\n",
    "from survey_agnostic_sn_vae.preprocessing import (\n",
    "    generate_superraenn_lc_file\n",
    ")\n",
    "\n",
    "OUTPUT_PATH = os.getcwd()\n",
    "\n",
    "transient_dir = os.path.join(\n",
    "    OUTPUT_PATH,\n",
    "    \"transients\"\n",
    ")\n",
    "save_dir = os.path.join(\n",
    "    OUTPUT_PATH,\n",
    "    \"superraenn\"\n",
    ")\n",
    "\n",
    "os.makedirs(save_dir, exist_ok=True)\n",
    "\n",
    "generate_superraenn_lc_file(\n",
    "    transient_dir,\n",
    "    save_dir\n",
    ")"
   ]
  },
  {
   "cell_type": "code",
   "execution_count": 1,
   "id": "207347f7-cc04-4558-b5fb-d59ffe314d81",
   "metadata": {},
   "outputs": [
    {
     "name": "stdout",
     "output_type": "stream",
     "text": [
      "1 1\n",
      "20 20\n",
      "16 16\n",
      "1 1\n",
      "17 17\n",
      "19 19\n",
      "17 17\n",
      "16 16\n",
      "15 15\n",
      "29 29\n",
      "18 18\n",
      "40 40\n"
     ]
    }
   ],
   "source": [
    "# overlay multiple LCs for same object \n",
    "from survey_agnostic_sn_vae.plotting import plot_lightcurves\n",
    "from survey_agnostic_sn_vae.data_generation.objects import *\n",
    "\n",
    "import os\n",
    "\n",
    "OUTPUT_PATH = os.getcwd()\n",
    "\n",
    "# Now, load Transient object\n",
    "all_transient_fns = glob.glob(OUTPUT_PATH+\"/transients/*\")\n",
    "test_transient = Transient.load(\n",
    "    all_transient_fns[0],\n",
    ")\n",
    "\n",
    "plot_lightcurves(\n",
    "    test_transient,\n",
    "    os.path.join(OUTPUT_PATH, \"sample_transient.pdf\")\n",
    ")"
   ]
  },
  {
   "cell_type": "code",
   "execution_count": null,
   "id": "b5e6ba8c-5571-4181-8d68-f32daaa829de",
   "metadata": {},
   "outputs": [],
   "source": []
  },
  {
   "cell_type": "code",
   "execution_count": null,
   "id": "fa713efe-2dba-4ad4-9179-5caf084ac8ee",
   "metadata": {},
   "outputs": [],
   "source": []
  }
 ],
 "metadata": {
  "jupytext": {
   "cell_markers": "\"\"\""
  },
  "kernelspec": {
   "display_name": "multimodal_env2",
   "language": "python",
   "name": "multimodal_env2"
  },
  "language_info": {
   "codemirror_mode": {
    "name": "ipython",
    "version": 3
   },
   "file_extension": ".py",
   "mimetype": "text/x-python",
   "name": "python",
   "nbconvert_exporter": "python",
   "pygments_lexer": "ipython3",
   "version": "3.10.13"
  }
 },
 "nbformat": 4,
 "nbformat_minor": 5
}
