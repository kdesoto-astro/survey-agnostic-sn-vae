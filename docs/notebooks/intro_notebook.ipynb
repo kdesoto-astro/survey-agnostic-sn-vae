{
 "cells": [
  {
   "cell_type": "markdown",
   "id": "accepting-editor",
   "metadata": {
    "cell_marker": "\"\"\""
   },
   "source": [
    "# Experimenting with Package Functions\n",
    "\n",
    "IN PROGRESS"
   ]
  },
  {
   "cell_type": "markdown",
   "id": "coral-upper",
   "metadata": {
    "cell_marker": "\"\"\"",
    "lines_to_next_cell": 1
   },
   "source": [
    "## (1) Data generation with MOSFIT"
   ]
  },
  {
   "cell_type": "code",
   "execution_count": 1,
   "id": "6d3fe66f-6834-4ef2-b7f2-f8354d1a6427",
   "metadata": {
    "tags": []
   },
   "outputs": [
    {
     "ename": "NameError",
     "evalue": "name 'np' is not defined",
     "output_type": "error",
     "traceback": [
      "\u001b[0;31m---------------------------------------------------------------------------\u001b[0m",
      "\u001b[0;31mNameError\u001b[0m                                 Traceback (most recent call last)",
      "Cell \u001b[0;32mIn[1], line 10\u001b[0m\n\u001b[1;32m      2\u001b[0m \u001b[38;5;28;01mfrom\u001b[39;00m \u001b[38;5;21;01msurvey_agnostic_sn_vae\u001b[39;00m\u001b[38;5;21;01m.\u001b[39;00m\u001b[38;5;21;01mdata_generation\u001b[39;00m\u001b[38;5;21;01m.\u001b[39;00m\u001b[38;5;21;01mobjects\u001b[39;00m \u001b[38;5;28;01mimport\u001b[39;00m \u001b[38;5;241m*\u001b[39m\n\u001b[1;32m      4\u001b[0m lsst_survey \u001b[38;5;241m=\u001b[39m Survey(\n\u001b[1;32m      5\u001b[0m     \u001b[38;5;124m'\u001b[39m\u001b[38;5;124mLSST\u001b[39m\u001b[38;5;124m'\u001b[39m,\n\u001b[1;32m      6\u001b[0m     [\u001b[38;5;124m'\u001b[39m\u001b[38;5;124mu\u001b[39m\u001b[38;5;124m'\u001b[39m, \u001b[38;5;124m'\u001b[39m\u001b[38;5;124mg\u001b[39m\u001b[38;5;124m'\u001b[39m, \u001b[38;5;124m'\u001b[39m\u001b[38;5;124mr\u001b[39m\u001b[38;5;124m'\u001b[39m, \u001b[38;5;124m'\u001b[39m\u001b[38;5;124mi\u001b[39m\u001b[38;5;124m'\u001b[39m, \u001b[38;5;124m'\u001b[39m\u001b[38;5;124mz\u001b[39m\u001b[38;5;124m'\u001b[39m, \u001b[38;5;124m'\u001b[39m\u001b[38;5;124my\u001b[39m\u001b[38;5;124m'\u001b[39m],\n\u001b[1;32m      7\u001b[0m     \u001b[38;5;241m3\u001b[39m\n\u001b[1;32m      8\u001b[0m )\n\u001b[0;32m---> 10\u001b[0m \u001b[43mgenerate_LCs_from_model\u001b[49m\u001b[43m(\u001b[49m\u001b[38;5;124;43m'\u001b[39;49m\u001b[38;5;124;43mslsn\u001b[39;49m\u001b[38;5;124;43m'\u001b[39;49m\u001b[43m,\u001b[49m\u001b[43m \u001b[49m\u001b[43m[\u001b[49m\u001b[43mlsst_survey\u001b[49m\u001b[43m,\u001b[49m\u001b[43m]\u001b[49m\u001b[43m,\u001b[49m\u001b[43m \u001b[49m\u001b[38;5;241;43m100\u001b[39;49m\u001b[43m)\u001b[49m\n",
      "File \u001b[0;32m~/python_repos/survey-agnostic-sn-vae/src/survey_agnostic_sn_vae/data_generation/mosfit.py:37\u001b[0m, in \u001b[0;36mgenerate_LCs_from_model\u001b[0;34m(model_name, survey_list, num)\u001b[0m\n\u001b[1;32m     35\u001b[0m s_name \u001b[38;5;241m=\u001b[39m s\u001b[38;5;241m.\u001b[39mname\n\u001b[1;32m     36\u001b[0m s_bands \u001b[38;5;241m=\u001b[39m s\u001b[38;5;241m.\u001b[39mbands\n\u001b[0;32m---> 37\u001b[0m s_times \u001b[38;5;241m=\u001b[39m \u001b[43ms\u001b[49m\u001b[38;5;241;43m.\u001b[39;49m\u001b[43mgenerate_sample_times\u001b[49m\u001b[43m(\u001b[49m\u001b[38;5;241;43m20\u001b[39;49m\u001b[43m)\u001b[49m\n\u001b[1;32m     39\u001b[0m fitter \u001b[38;5;241m=\u001b[39m mosfit\u001b[38;5;241m.\u001b[39mFitter()\n\u001b[1;32m     41\u001b[0m data \u001b[38;5;241m=\u001b[39m fitter\u001b[38;5;241m.\u001b[39mgenerate_dummy_data(\n\u001b[1;32m     42\u001b[0m     s\u001b[38;5;241m.\u001b[39mname,\n\u001b[1;32m     43\u001b[0m     time_list\u001b[38;5;241m=\u001b[39ms_times,\n\u001b[1;32m     44\u001b[0m     band_list\u001b[38;5;241m=\u001b[39ms\u001b[38;5;241m.\u001b[39mbands,\n\u001b[1;32m     45\u001b[0m     band_instruments\u001b[38;5;241m=\u001b[39m[s\u001b[38;5;241m.\u001b[39mname,],\n\u001b[1;32m     46\u001b[0m )\n",
      "File \u001b[0;32m~/python_repos/survey-agnostic-sn-vae/src/survey_agnostic_sn_vae/data_generation/objects.py:10\u001b[0m, in \u001b[0;36mSurvey.generate_sample_times\u001b[0;34m(self, num_points)\u001b[0m\n\u001b[1;32m      9\u001b[0m \u001b[38;5;28;01mdef\u001b[39;00m \u001b[38;5;21mgenerate_sample_times\u001b[39m(\u001b[38;5;28mself\u001b[39m, num_points):\n\u001b[0;32m---> 10\u001b[0m     initial_time \u001b[38;5;241m=\u001b[39m \u001b[38;5;241m-\u001b[39m\u001b[38;5;241m5\u001b[39m \u001b[38;5;241m+\u001b[39m \u001b[43mnp\u001b[49m\u001b[38;5;241m.\u001b[39mrandom\u001b[38;5;241m.\u001b[39mrandom_sample() \u001b[38;5;241m*\u001b[39m \u001b[38;5;241m10\u001b[39m\n\u001b[1;32m     11\u001b[0m     \u001b[38;5;28;01mreturn\u001b[39;00m [initial_time \u001b[38;5;241m+\u001b[39m \u001b[38;5;28mself\u001b[39m\u001b[38;5;241m.\u001b[39mcadence \u001b[38;5;241m*\u001b[39m i \u001b[38;5;28;01mfor\u001b[39;00m i \u001b[38;5;129;01min\u001b[39;00m \u001b[38;5;28mrange\u001b[39m(num_points)]\n",
      "\u001b[0;31mNameError\u001b[0m: name 'np' is not defined"
     ]
    }
   ],
   "source": [
    "from survey_agnostic_sn_vae.data_generation.mosfit import *\n",
    "from survey_agnostic_sn_vae.data_generation.objects import *\n",
    "\n",
    "lsst_survey = Survey(\n",
    "    'LSST',\n",
    "    ['u', 'g', 'r', 'i', 'z', 'y'],\n",
    "    3\n",
    ")\n",
    "\n",
    "generate_LCs_from_model('slsn', [lsst_survey,], 100)"
   ]
  },
  {
   "cell_type": "code",
   "execution_count": null,
   "id": "457edbf4-2016-4ab5-b99d-ef26bb532c3e",
   "metadata": {},
   "outputs": [],
   "source": []
  },
  {
   "cell_type": "code",
   "execution_count": null,
   "id": "5881bf72-f0fb-4a6c-8dbc-8b8bedb316d2",
   "metadata": {},
   "outputs": [],
   "source": []
  }
 ],
 "metadata": {
  "jupytext": {
   "cell_markers": "\"\"\""
  },
  "kernelspec": {
   "display_name": "multimodal_env2",
   "language": "python",
   "name": "multimodal_env2"
  },
  "language_info": {
   "codemirror_mode": {
    "name": "ipython",
    "version": 3
   },
   "file_extension": ".py",
   "mimetype": "text/x-python",
   "name": "python",
   "nbconvert_exporter": "python",
   "pygments_lexer": "ipython3",
   "version": "3.10.13"
  }
 },
 "nbformat": 4,
 "nbformat_minor": 5
}
