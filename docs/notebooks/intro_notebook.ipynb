{
 "cells": [
  {
   "cell_type": "markdown",
   "id": "accepting-editor",
   "metadata": {
    "cell_marker": "\"\"\"",
    "tags": []
   },
   "source": [
    "# Experimenting with Package Functions\n",
    "\n",
    "IN PROGRESS"
   ]
  },
  {
   "cell_type": "markdown",
   "id": "coral-upper",
   "metadata": {
    "cell_marker": "\"\"\"",
    "lines_to_next_cell": 1
   },
   "source": [
    "## (1) Data generation with MOSFIT"
   ]
  },
  {
   "cell_type": "code",
   "execution_count": null,
   "id": "6d3fe66f-6834-4ef2-b7f2-f8354d1a6427",
   "metadata": {
    "tags": []
   },
   "outputs": [],
   "source": [
    "from survey_agnostic_sn_vae.data_generation.mosfit2 import *\n",
    "from survey_agnostic_sn_vae.data_generation.objects import *\n",
    "import os\n",
    "\n",
    "OUTPUT_PATH = os.getcwd()\n",
    "\n",
    "os.makedirs(OUTPUT_PATH+\"/transients\", exist_ok=True)\n",
    "\n",
    "print(OUTPUT_PATH)\n",
    "#for f in glob.glob(OUTPUT_PATH+\"/transients/*\"):\n",
    "#    os.remove(f)\n",
    "    \n",
    "lsst_cadence = {\n",
    "    'u': 25.0,\n",
    "    'g': 17.0,\n",
    "    'r': 6.0,\n",
    "    'i': 7.0,\n",
    "    'z': 8.0,\n",
    "    'y': 8.0\n",
    "}\n",
    "\n",
    "panstarrs_cadence = {b: 3.0 for b in ['g', 'r', 'i', 'z']}\n",
    "\n",
    "lsst_survey = Survey(\n",
    "    'LSST',\n",
    "    ['u', 'g', 'r', 'i', 'z', 'y'],\n",
    "    lsst_cadence\n",
    ")\n",
    "ztf_survey = Survey(\n",
    "    'ZTF',\n",
    "    ['g', 'r'],\n",
    "    2.0 # band sampling coupled\n",
    ")\n",
    "panstarrs_survey = Survey(\n",
    "    'PanSTARRS',\n",
    "    ['g', 'r', 'i', 'z'],\n",
    "    panstarrs_cadence\n",
    ")\n",
    "\n",
    "generate_LCs_from_model(\n",
    "    'slsn',\n",
    "    [lsst_survey, ztf_survey, panstarrs_survey],\n",
    "    10000,\n",
    "    output_path=OUTPUT_PATH\n",
    ");"
   ]
  },
  {
   "cell_type": "code",
   "execution_count": null,
   "id": "457edbf4-2016-4ab5-b99d-ef26bb532c3e",
   "metadata": {
    "tags": []
   },
   "outputs": [],
   "source": [
    "from survey_agnostic_sn_vae.data_generation.objects import *\n",
    "\n",
    "OUTPUT_PATH = os.getcwd()\n",
    "\n",
    "# Now, load Transient object\n",
    "all_transient_fns = glob.glob(OUTPUT_PATH+\"/transients/*\")\n",
    "test_transient = Transient.load(\n",
    "    all_transient_fns[0],\n",
    ")\n",
    "print(test_transient.lightcurves) # should be 2\n",
    "for lc in test_transient.lightcurves:\n",
    "    print(lc.bands)\n",
    "    print(lc.survey.bands)\n",
    "    print(lc.survey.limiting_magnitude)"
   ]
  },
  {
   "cell_type": "code",
   "execution_count": null,
   "id": "5881bf72-f0fb-4a6c-8dbc-8b8bedb316d2",
   "metadata": {},
   "outputs": [
    {
     "name": "stdout",
     "output_type": "stream",
     "text": [
      "0\n",
      "50\n",
      "100\n",
      "150\n",
      "200\n",
      "250\n",
      "SKIPPED\n",
      "300\n"
     ]
    }
   ],
   "source": [
    "import os\n",
    "from survey_agnostic_sn_vae.preprocessing import (\n",
    "    generate_superraenn_lc_file\n",
    ")\n",
    "\n",
    "OUTPUT_PATH = os.getcwd()\n",
    "\n",
    "transient_dir = os.path.join(\n",
    "    OUTPUT_PATH,\n",
    "    \"transients\"\n",
    ")\n",
    "save_dir = os.path.join(\n",
    "    OUTPUT_PATH,\n",
    "    \"superraenn\"\n",
    ")\n",
    "\n",
    "os.makedirs(save_dir, exist_ok=True)\n",
    "\n",
    "generate_superraenn_lc_file(\n",
    "    transient_dir,\n",
    "    save_dir\n",
    ")"
   ]
  },
  {
   "cell_type": "code",
   "execution_count": null,
   "id": "7412c8c6-55bd-497f-871a-7722c5d866a5",
   "metadata": {},
   "outputs": [],
   "source": []
  },
  {
   "cell_type": "code",
   "execution_count": null,
   "id": "d53c8e65-482d-45f8-a9a1-c164e7a6225a",
   "metadata": {},
   "outputs": [],
   "source": []
  },
  {
   "cell_type": "code",
   "execution_count": null,
   "id": "207347f7-cc04-4558-b5fb-d59ffe314d81",
   "metadata": {},
   "outputs": [],
   "source": [
    "# overlay multiple LCs for same object \n",
    "from survey_agnostic_sn_vae.plotting import plot_lightcurves\n",
    "from survey_agnostic_sn_vae.data_generation.objects import *\n",
    "\n",
    "import os\n",
    "\n",
    "OUTPUT_PATH = os.getcwd()\n",
    "\n",
    "# Now, load Transient obje dct\n",
    "all_transient_fns = glob.glob(OUTPUT_PATH+\"/transients/*\")\n",
    "test_transient = Transient.load(\n",
    "    all_transient_fns[1],\n",
    ")\n",
    "\n",
    "plot_lightcurves(\n",
    "    test_transient,\n",
    "    os.path.join(OUTPUT_PATH, \"sample_transient.pdf\")\n",
    ")"
   ]
  },
  {
   "cell_type": "markdown",
   "id": "3e752b28-89f8-49ec-9473-a2b42215570a",
   "metadata": {},
   "source": [
    "## Test RAENN encodings"
   ]
  },
  {
   "cell_type": "markdown",
   "id": "c55f0e00-a356-4fc1-aab7-483cdcc16815",
   "metadata": {},
   "source": [
    " (1) First try just VAE encodings without similarity loss"
   ]
  },
  {
   "cell_type": "code",
   "execution_count": null,
   "id": "48decd7a-9213-4cca-9aaa-4ba788267062",
   "metadata": {
    "tags": []
   },
   "outputs": [
    {
     "name": "stderr",
     "output_type": "stream",
     "text": [
      "Platform 'METAL' is experimental and not all JAX functionality may be correctly supported!\n"
     ]
    },
    {
     "name": "stdout",
     "output_type": "stream",
     "text": [
      "Metal device set to: Apple M1 Pro\n",
      "\n",
      "systemMemory: 16.00 GB\n",
      "maxCacheSize: 5.33 GB\n",
      "\n",
      "METAL\n"
     ]
    },
    {
     "name": "stderr",
     "output_type": "stream",
     "text": [
      "2024-04-13 22:55:58.468961: W pjrt_plugin/src/mps_client.cc:563] WARNING: JAX Apple GPU support is experimental and not all JAX functionality is correctly supported!\n"
     ]
    },
    {
     "name": "stdout",
     "output_type": "stream",
     "text": [
      "making model\n"
     ]
    },
    {
     "data": {
      "text/html": [
       "<pre style=\"white-space:pre;overflow-x:auto;line-height:normal;font-family:Menlo,'DejaVu Sans Mono',consolas,'Courier New',monospace\"><span style=\"font-weight: bold\">Model: \"jax_model\"</span>\n",
       "</pre>\n"
      ],
      "text/plain": [
       "\u001b[1mModel: \"jax_model\"\u001b[0m\n"
      ]
     },
     "metadata": {},
     "output_type": "display_data"
    },
    {
     "data": {
      "text/html": [
       "<pre style=\"white-space:pre;overflow-x:auto;line-height:normal;font-family:Menlo,'DejaVu Sans Mono',consolas,'Courier New',monospace\">┏━━━━━━━━━━━━━━━━━━━━━┳━━━━━━━━━━━━━━━━━━━┳━━━━━━━━━━━━┳━━━━━━━━━━━━━━━━━━━┓\n",
       "┃<span style=\"font-weight: bold\"> Layer (type)        </span>┃<span style=\"font-weight: bold\"> Output Shape      </span>┃<span style=\"font-weight: bold\">    Param # </span>┃<span style=\"font-weight: bold\"> Connected to      </span>┃\n",
       "┡━━━━━━━━━━━━━━━━━━━━━╇━━━━━━━━━━━━━━━━━━━╇━━━━━━━━━━━━╇━━━━━━━━━━━━━━━━━━━┩\n",
       "│ input_layer         │ (<span style=\"color: #00d7ff; text-decoration-color: #00d7ff\">None</span>, <span style=\"color: #00d7ff; text-decoration-color: #00d7ff\">None</span>, <span style=\"color: #00af00; text-decoration-color: #00af00\">19</span>)  │          <span style=\"color: #00af00; text-decoration-color: #00af00\">0</span> │ -                 │\n",
       "│ (<span style=\"color: #0087ff; text-decoration-color: #0087ff\">InputLayer</span>)        │                   │            │                   │\n",
       "├─────────────────────┼───────────────────┼────────────┼───────────────────┤\n",
       "│ sequential          │ (<span style=\"color: #00d7ff; text-decoration-color: #00d7ff\">None</span>, <span style=\"color: #00d7ff; text-decoration-color: #00d7ff\">None</span>, <span style=\"color: #00af00; text-decoration-color: #00af00\">100</span>) │     <span style=\"color: #00af00; text-decoration-color: #00af00\">62,300</span> │ input_layer[<span style=\"color: #00af00; text-decoration-color: #00af00\">0</span>][<span style=\"color: #00af00; text-decoration-color: #00af00\">0</span>] │\n",
       "│ (<span style=\"color: #0087ff; text-decoration-color: #0087ff\">Sequential</span>)        │                   │            │                   │\n",
       "├─────────────────────┼───────────────────┼────────────┼───────────────────┤\n",
       "│ get_item (<span style=\"color: #0087ff; text-decoration-color: #0087ff\">GetItem</span>)  │ (<span style=\"color: #00d7ff; text-decoration-color: #00d7ff\">None</span>, <span style=\"color: #00af00; text-decoration-color: #00af00\">100</span>)       │          <span style=\"color: #00af00; text-decoration-color: #00af00\">0</span> │ sequential[<span style=\"color: #00af00; text-decoration-color: #00af00\">0</span>][<span style=\"color: #00af00; text-decoration-color: #00af00\">0</span>]  │\n",
       "├─────────────────────┼───────────────────┼────────────┼───────────────────┤\n",
       "│ repeat_vector       │ (<span style=\"color: #00d7ff; text-decoration-color: #00d7ff\">None</span>, <span style=\"color: #00af00; text-decoration-color: #00af00\">1098</span>, <span style=\"color: #00af00; text-decoration-color: #00af00\">100</span>) │          <span style=\"color: #00af00; text-decoration-color: #00af00\">0</span> │ get_item[<span style=\"color: #00af00; text-decoration-color: #00af00\">0</span>][<span style=\"color: #00af00; text-decoration-color: #00af00\">0</span>]    │\n",
       "│ (<span style=\"color: #0087ff; text-decoration-color: #0087ff\">RepeatVector</span>)      │                   │            │                   │\n",
       "├─────────────────────┼───────────────────┼────────────┼───────────────────┤\n",
       "│ get_item_1          │ (<span style=\"color: #00d7ff; text-decoration-color: #00d7ff\">None</span>, <span style=\"color: #00af00; text-decoration-color: #00af00\">1098</span>, <span style=\"color: #00af00; text-decoration-color: #00af00\">100</span>) │          <span style=\"color: #00af00; text-decoration-color: #00af00\">0</span> │ repeat_vector[<span style=\"color: #00af00; text-decoration-color: #00af00\">0</span>]… │\n",
       "│ (<span style=\"color: #0087ff; text-decoration-color: #0087ff\">GetItem</span>)           │                   │            │                   │\n",
       "├─────────────────────┼───────────────────┼────────────┼───────────────────┤\n",
       "│ sequential_1        │ (<span style=\"color: #00d7ff; text-decoration-color: #00d7ff\">None</span>, <span style=\"color: #00af00; text-decoration-color: #00af00\">1098</span>, <span style=\"color: #00af00; text-decoration-color: #00af00\">1</span>)   │     <span style=\"color: #00af00; text-decoration-color: #00af00\">10,201</span> │ get_item_1[<span style=\"color: #00af00; text-decoration-color: #00af00\">0</span>][<span style=\"color: #00af00; text-decoration-color: #00af00\">0</span>]  │\n",
       "│ (<span style=\"color: #0087ff; text-decoration-color: #0087ff\">Sequential</span>)        │                   │            │                   │\n",
       "├─────────────────────┼───────────────────┼────────────┼───────────────────┤\n",
       "│ input_layer_1       │ (<span style=\"color: #00d7ff; text-decoration-color: #00d7ff\">None</span>, <span style=\"color: #00d7ff; text-decoration-color: #00d7ff\">None</span>, <span style=\"color: #00af00; text-decoration-color: #00af00\">1</span>)   │          <span style=\"color: #00af00; text-decoration-color: #00af00\">0</span> │ -                 │\n",
       "│ (<span style=\"color: #0087ff; text-decoration-color: #0087ff\">InputLayer</span>)        │                   │            │                   │\n",
       "├─────────────────────┼───────────────────┼────────────┼───────────────────┤\n",
       "│ input_layer_2       │ (<span style=\"color: #00d7ff; text-decoration-color: #00d7ff\">None</span>, <span style=\"color: #00af00; text-decoration-color: #00af00\">1098</span>, <span style=\"color: #00af00; text-decoration-color: #00af00\">3</span>)   │          <span style=\"color: #00af00; text-decoration-color: #00af00\">0</span> │ -                 │\n",
       "│ (<span style=\"color: #0087ff; text-decoration-color: #0087ff\">InputLayer</span>)        │                   │            │                   │\n",
       "├─────────────────────┼───────────────────┼────────────┼───────────────────┤\n",
       "│ reshape (<span style=\"color: #0087ff; text-decoration-color: #0087ff\">Reshape</span>)   │ (<span style=\"color: #00d7ff; text-decoration-color: #00d7ff\">None</span>, <span style=\"color: #00af00; text-decoration-color: #00af00\">1</span>, <span style=\"color: #00af00; text-decoration-color: #00af00\">183</span>, <span style=\"color: #00af00; text-decoration-color: #00af00\">6</span>) │          <span style=\"color: #00af00; text-decoration-color: #00af00\">0</span> │ sequential_1[<span style=\"color: #00af00; text-decoration-color: #00af00\">0</span>][<span style=\"color: #00af00; text-decoration-color: #00af00\">…</span> │\n",
       "└─────────────────────┴───────────────────┴────────────┴───────────────────┘\n",
       "</pre>\n"
      ],
      "text/plain": [
       "┏━━━━━━━━━━━━━━━━━━━━━┳━━━━━━━━━━━━━━━━━━━┳━━━━━━━━━━━━┳━━━━━━━━━━━━━━━━━━━┓\n",
       "┃\u001b[1m \u001b[0m\u001b[1mLayer (type)       \u001b[0m\u001b[1m \u001b[0m┃\u001b[1m \u001b[0m\u001b[1mOutput Shape     \u001b[0m\u001b[1m \u001b[0m┃\u001b[1m \u001b[0m\u001b[1m   Param #\u001b[0m\u001b[1m \u001b[0m┃\u001b[1m \u001b[0m\u001b[1mConnected to     \u001b[0m\u001b[1m \u001b[0m┃\n",
       "┡━━━━━━━━━━━━━━━━━━━━━╇━━━━━━━━━━━━━━━━━━━╇━━━━━━━━━━━━╇━━━━━━━━━━━━━━━━━━━┩\n",
       "│ input_layer         │ (\u001b[38;5;45mNone\u001b[0m, \u001b[38;5;45mNone\u001b[0m, \u001b[38;5;34m19\u001b[0m)  │          \u001b[38;5;34m0\u001b[0m │ -                 │\n",
       "│ (\u001b[38;5;33mInputLayer\u001b[0m)        │                   │            │                   │\n",
       "├─────────────────────┼───────────────────┼────────────┼───────────────────┤\n",
       "│ sequential          │ (\u001b[38;5;45mNone\u001b[0m, \u001b[38;5;45mNone\u001b[0m, \u001b[38;5;34m100\u001b[0m) │     \u001b[38;5;34m62,300\u001b[0m │ input_layer[\u001b[38;5;34m0\u001b[0m][\u001b[38;5;34m0\u001b[0m] │\n",
       "│ (\u001b[38;5;33mSequential\u001b[0m)        │                   │            │                   │\n",
       "├─────────────────────┼───────────────────┼────────────┼───────────────────┤\n",
       "│ get_item (\u001b[38;5;33mGetItem\u001b[0m)  │ (\u001b[38;5;45mNone\u001b[0m, \u001b[38;5;34m100\u001b[0m)       │          \u001b[38;5;34m0\u001b[0m │ sequential[\u001b[38;5;34m0\u001b[0m][\u001b[38;5;34m0\u001b[0m]  │\n",
       "├─────────────────────┼───────────────────┼────────────┼───────────────────┤\n",
       "│ repeat_vector       │ (\u001b[38;5;45mNone\u001b[0m, \u001b[38;5;34m1098\u001b[0m, \u001b[38;5;34m100\u001b[0m) │          \u001b[38;5;34m0\u001b[0m │ get_item[\u001b[38;5;34m0\u001b[0m][\u001b[38;5;34m0\u001b[0m]    │\n",
       "│ (\u001b[38;5;33mRepeatVector\u001b[0m)      │                   │            │                   │\n",
       "├─────────────────────┼───────────────────┼────────────┼───────────────────┤\n",
       "│ get_item_1          │ (\u001b[38;5;45mNone\u001b[0m, \u001b[38;5;34m1098\u001b[0m, \u001b[38;5;34m100\u001b[0m) │          \u001b[38;5;34m0\u001b[0m │ repeat_vector[\u001b[38;5;34m0\u001b[0m]… │\n",
       "│ (\u001b[38;5;33mGetItem\u001b[0m)           │                   │            │                   │\n",
       "├─────────────────────┼───────────────────┼────────────┼───────────────────┤\n",
       "│ sequential_1        │ (\u001b[38;5;45mNone\u001b[0m, \u001b[38;5;34m1098\u001b[0m, \u001b[38;5;34m1\u001b[0m)   │     \u001b[38;5;34m10,201\u001b[0m │ get_item_1[\u001b[38;5;34m0\u001b[0m][\u001b[38;5;34m0\u001b[0m]  │\n",
       "│ (\u001b[38;5;33mSequential\u001b[0m)        │                   │            │                   │\n",
       "├─────────────────────┼───────────────────┼────────────┼───────────────────┤\n",
       "│ input_layer_1       │ (\u001b[38;5;45mNone\u001b[0m, \u001b[38;5;45mNone\u001b[0m, \u001b[38;5;34m1\u001b[0m)   │          \u001b[38;5;34m0\u001b[0m │ -                 │\n",
       "│ (\u001b[38;5;33mInputLayer\u001b[0m)        │                   │            │                   │\n",
       "├─────────────────────┼───────────────────┼────────────┼───────────────────┤\n",
       "│ input_layer_2       │ (\u001b[38;5;45mNone\u001b[0m, \u001b[38;5;34m1098\u001b[0m, \u001b[38;5;34m3\u001b[0m)   │          \u001b[38;5;34m0\u001b[0m │ -                 │\n",
       "│ (\u001b[38;5;33mInputLayer\u001b[0m)        │                   │            │                   │\n",
       "├─────────────────────┼───────────────────┼────────────┼───────────────────┤\n",
       "│ reshape (\u001b[38;5;33mReshape\u001b[0m)   │ (\u001b[38;5;45mNone\u001b[0m, \u001b[38;5;34m1\u001b[0m, \u001b[38;5;34m183\u001b[0m, \u001b[38;5;34m6\u001b[0m) │          \u001b[38;5;34m0\u001b[0m │ sequential_1[\u001b[38;5;34m0\u001b[0m][\u001b[38;5;34m…\u001b[0m │\n",
       "└─────────────────────┴───────────────────┴────────────┴───────────────────┘\n"
      ]
     },
     "metadata": {},
     "output_type": "display_data"
    },
    {
     "data": {
      "text/html": [
       "<pre style=\"white-space:pre;overflow-x:auto;line-height:normal;font-family:Menlo,'DejaVu Sans Mono',consolas,'Courier New',monospace\"><span style=\"font-weight: bold\"> Total params: </span><span style=\"color: #00af00; text-decoration-color: #00af00\">72,501</span> (283.21 KB)\n",
       "</pre>\n"
      ],
      "text/plain": [
       "\u001b[1m Total params: \u001b[0m\u001b[38;5;34m72,501\u001b[0m (283.21 KB)\n"
      ]
     },
     "metadata": {},
     "output_type": "display_data"
    },
    {
     "data": {
      "text/html": [
       "<pre style=\"white-space:pre;overflow-x:auto;line-height:normal;font-family:Menlo,'DejaVu Sans Mono',consolas,'Courier New',monospace\"><span style=\"font-weight: bold\"> Trainable params: </span><span style=\"color: #00af00; text-decoration-color: #00af00\">72,501</span> (283.21 KB)\n",
       "</pre>\n"
      ],
      "text/plain": [
       "\u001b[1m Trainable params: \u001b[0m\u001b[38;5;34m72,501\u001b[0m (283.21 KB)\n"
      ]
     },
     "metadata": {},
     "output_type": "display_data"
    },
    {
     "data": {
      "text/html": [
       "<pre style=\"white-space:pre;overflow-x:auto;line-height:normal;font-family:Menlo,'DejaVu Sans Mono',consolas,'Courier New',monospace\"><span style=\"font-weight: bold\"> Non-trainable params: </span><span style=\"color: #00af00; text-decoration-color: #00af00\">0</span> (0.00 B)\n",
       "</pre>\n"
      ],
      "text/plain": [
       "\u001b[1m Non-trainable params: \u001b[0m\u001b[38;5;34m0\u001b[0m (0.00 B)\n"
      ]
     },
     "metadata": {},
     "output_type": "display_data"
    },
    {
     "name": "stdout",
     "output_type": "stream",
     "text": [
      "<InputLayer name=input_layer, built=True>\n",
      "<Sequential name=sequential, built=True>\n",
      "<RepeatVector name=repeat_vector, built=True>\n",
      "<Sequential name=sequential_1, built=True>\n",
      "<InputLayer name=input_layer_1, built=True>\n",
      "<InputLayer name=input_layer_2, built=True>\n",
      "<Reshape name=reshape, built=True>\n",
      "Epoch 1/100\n",
      "STARTING TRAINING\n"
     ]
    }
   ],
   "source": [
    "from survey_agnostic_sn_vae.preprocessing import prep_input\n",
    "from survey_agnostic_sn_vae.raenn import *\n",
    "from keras.models import load_model\n",
    "from survey_agnostic_sn_vae.custom_nn_layers.kl_loss import SamplingLayer\n",
    "from survey_agnostic_sn_vae.custom_nn_layers.recon_loss import ReconstructionLoss\n",
    "from keras.optimizers import Adam\n",
    "import keras\n",
    "import pretty_errors\n",
    "\n",
    "OUTDIR = 'superraenn'\n",
    "LCFILE = 'superraenn/lcs_ALL.npz'\n",
    "\n",
    "NEURON_N_DEFAULT = 100\n",
    "ENCODING_N_DEFAULT = 10\n",
    "N_EPOCH_DEFAULT = 100\n",
    "BATCH_SIZE = 128\n",
    "\n",
    "sequence, outseq, ids, maxlen, nfilts = prep_input(LCFILE, save=True, outdir=OUTDIR)\n",
    "model, callbacks_list, input_1, encoded = make_model(\n",
    "    NEURON_N_DEFAULT, ENCODING_N_DEFAULT, int(maxlen), nfilts, N_EPOCH_DEFAULT, BATCH_SIZE\n",
    ")\n",
    "\"\"\"\n",
    "model = load_model(\n",
    "    OUTDIR + \"/models/model.h5\",\n",
    "    custom_objects = {\n",
    "        'SamplingLayer': SamplingLayer,\n",
    "        'ReconstructionLoss': ReconstructionLoss\n",
    "    },\n",
    "    compile=False\n",
    ")\n",
    "\"\"\"\n",
    "new_optimizer = Adam(learning_rate=1e-3, beta_1=0.9, beta_2=0.999)\n",
    "rl = ReconstructionLoss(6)\n",
    "model.compile(optimizer=new_optimizer, loss=rl)\n",
    "\"\"\"\n",
    "# try adding a new layer!\n",
    "model, callbacks_list, input_1, encoded = add_encoded_nodes(model, N_EPOCH_DEFAULT, n=1)\n",
    "ENCODING_N_DEFAULT += 1\n",
    "\"\"\"\n",
    "model.summary()\n",
    "for l in model.layers:\n",
    "    print(l)\n",
    "\n",
    "#annealing = AnnealingCallback(model.layers[4].beta,\"cyclical\",N_EPOCH_DEFAULT)    \n",
    "#callbacks_list = [annealing,]\n",
    "callbacks_list = []\n",
    "model = fit_model(model, callbacks_list, sequence, outseq, N_EPOCH_DEFAULT, BATCH_SIZE)\n",
    "encoder = get_encoder(model, input_1, encoded)\n",
    "\n",
    "if OUTDIR[-1] != '/':\n",
    "    OUTDIR += '/'\n",
    "    \n",
    "save_model(model, ENCODING_N_DEFAULT, NEURON_N_DEFAULT, outdir=OUTDIR)\n",
    "\n",
    "save_encodings( \n",
    "    model, encoder, sequence, ids, LCFILE,\n",
    "    ENCODING_N_DEFAULT, NEURON_N_DEFAULT, len(ids), maxlen,\n",
    "    OUTDIR\n",
    ")"
   ]
  },
  {
   "cell_type": "code",
   "execution_count": null,
   "id": "2471f8aa-1343-4eb4-ab4d-c5dc85c85f7c",
   "metadata": {},
   "outputs": [],
   "source": [
    "from survey_agnostic_sn_vae.preprocessing import prep_input\n",
    "from survey_agnostic_sn_vae.raenn import *\n",
    "from survey_agnostic_sn_vae.plotting import *\n",
    "\n",
    "from tensorflow.keras.models import load_model\n",
    "from survey_agnostic_sn_vae.custom_nn_layers.kl_loss import SamplingLayer\n",
    "from survey_agnostic_sn_vae.custom_nn_layers.recon_loss import ReconstructionLoss\n",
    "from tensorflow.keras.optimizers.legacy import Adam\n",
    "import tensorflow as tf\n",
    "\n",
    "OUTDIR = 'superraenn'\n",
    "LCFILE = 'superraenn/lcs.npz'\n",
    "\n",
    "# overlay decodings\n",
    "fig, ax = plt.subplots()\n",
    "\n",
    "\"\"\"\n",
    "model = load_model(\n",
    "    OUTDIR + \"/models/model.h5\",\n",
    "    custom_objects = {\n",
    "        'SamplingLayer': SamplingLayer,\n",
    "        'ReconstructionLoss': ReconstructionLoss\n",
    "    },\n",
    "    compile=False\n",
    ")\n",
    "\"\"\"\n",
    "sequence, outseq, ids, maxlen, nfilts = prep_input(LCFILE, save=True, outdir=OUTDIR)\n",
    "\n",
    "decodings = get_decodings(\n",
    "    model, sequence[:10], outseq[:10]\n",
    ")\n",
    "\n",
    "bands = 'ugrizy'\n",
    "\n",
    "for i in range(10):\n",
    "    seq = sequence[i]\n",
    "    d = np.reshape(decodings[i], (seq.shape[0], -1))\n",
    "    for b_idx in range(6):\n",
    "        c_i = BAND_COLORS[bands[b_idx]]\n",
    "        plt.errorbar(seq[:,0], seq[:,b_idx+1], yerr=seq[:,7+b_idx], fmt='none', ecolor=c_i)\n",
    "        plt.scatter(seq[:,0], seq[:,b_idx+1], marker='o', color=c_i)\n",
    "        plt.plot(seq[:,0], d[:,b_idx], c=c_i)\n",
    "        \n",
    "    plt.show()\n"
   ]
  },
  {
   "cell_type": "code",
   "execution_count": null,
   "id": "317066fc-861c-47ee-a1ae-0cd05d6673aa",
   "metadata": {},
   "outputs": [],
   "source": []
  }
 ],
 "metadata": {
  "jupytext": {
   "cell_markers": "\"\"\""
  },
  "kernelspec": {
   "display_name": "multimodal_env2",
   "language": "python",
   "name": "multimodal_env2"
  },
  "language_info": {
   "codemirror_mode": {
    "name": "ipython",
    "version": 3
   },
   "file_extension": ".py",
   "mimetype": "text/x-python",
   "name": "python",
   "nbconvert_exporter": "python",
   "pygments_lexer": "ipython3",
   "version": "3.10.13"
  }
 },
 "nbformat": 4,
 "nbformat_minor": 5
}
