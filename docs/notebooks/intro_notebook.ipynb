{
 "cells": [
  {
   "cell_type": "markdown",
   "id": "accepting-editor",
   "metadata": {
    "cell_marker": "\"\"\""
   },
   "source": [
    "# Experimenting with Package Functions\n",
    "\n",
    "IN PROGRESS"
   ]
  },
  {
   "cell_type": "markdown",
   "id": "coral-upper",
   "metadata": {
    "cell_marker": "\"\"\"",
    "lines_to_next_cell": 1
   },
   "source": [
    "## (1) Data generation with MOSFIT"
   ]
  },
  {
   "cell_type": "code",
   "execution_count": 1,
   "id": "6d3fe66f-6834-4ef2-b7f2-f8354d1a6427",
   "metadata": {
    "tags": []
   },
   "outputs": [
    {
     "name": "stdout",
     "output_type": "stream",
     "text": [
      "Switching to MOSFIT path: /Users/kdesoto/python_repos/MOSFiT/mosfit\n",
      "Switching back to original working directory\n",
      "Switching to MOSFIT path: /Users/kdesoto/python_repos/MOSFiT/mosfit\n",
      "Switching back to original working directory\n",
      "Switching to MOSFIT path: /Users/kdesoto/python_repos/MOSFiT/mosfit\n",
      "Switching back to original working directory\n"
     ]
    }
   ],
   "source": [
    "from survey_agnostic_sn_vae.data_generation.mosfit2 import *\n",
    "from survey_agnostic_sn_vae.data_generation.objects import *\n",
    "import os\n",
    "\n",
    "OUTPUT_PATH = os.getcwd()\n",
    "\n",
    "os.makedirs(OUTPUT_PATH+\"/transients\", exist_ok=True)\n",
    "\n",
    "for f in glob.glob(OUTPUT_PATH+\"/transients/*\"):\n",
    "    os.remove(f)\n",
    "    \n",
    "lsst_survey = Survey(\n",
    "    'LSST',\n",
    "    ['u', 'g', 'r', 'i', 'z', 'y'],\n",
    "    3.0\n",
    ")\n",
    "ztf_survey = Survey(\n",
    "    'ZTF',\n",
    "    ['g', 'r'],\n",
    "    2.0\n",
    ")\n",
    "panstarrs_survey = Survey(\n",
    "    'PanSTARRS',\n",
    "    ['g', 'r', 'i', 'z'],\n",
    "    3.0\n",
    ")\n",
    "generate_LCs_from_model(\n",
    "    'slsn',\n",
    "    [lsst_survey, ztf_survey, panstarrs_survey],\n",
    "    10,\n",
    "    output_path=OUTPUT_PATH\n",
    ");"
   ]
  },
  {
   "cell_type": "code",
   "execution_count": 2,
   "id": "457edbf4-2016-4ab5-b99d-ef26bb532c3e",
   "metadata": {
    "tags": []
   },
   "outputs": [
    {
     "name": "stdout",
     "output_type": "stream",
     "text": [
      "[<survey_agnostic_sn_vae.data_generation.objects.LightCurve object at 0x107f2fcd0>, <survey_agnostic_sn_vae.data_generation.objects.LightCurve object at 0x107f2dba0>]\n",
      "['g' 'i' 'r' 'u' 'y' 'z']\n",
      "['u', 'g', 'r', 'i', 'z', 'y']\n",
      "['g' 'r']\n",
      "['g', 'r']\n"
     ]
    }
   ],
   "source": [
    "from survey_agnostic_sn_vae.data_generation.objects import *\n",
    "\n",
    "OUTPUT_PATH = os.getcwd()\n",
    "\n",
    "# Now, load Transient object\n",
    "all_transient_fns = glob.glob(OUTPUT_PATH+\"/transients/*\")\n",
    "test_transient = Transient.load(\n",
    "    all_transient_fns[0],\n",
    ")\n",
    "print(test_transient.lightcurves) # should be 2\n",
    "for lc in test_transient.lightcurves:\n",
    "    print(lc.bands)\n",
    "    print(lc.survey.bands)"
   ]
  },
  {
   "cell_type": "code",
   "execution_count": 1,
   "id": "5881bf72-f0fb-4a6c-8dbc-8b8bedb316d2",
   "metadata": {},
   "outputs": [
    {
     "name": "stdout",
     "output_type": "stream",
     "text": [
      "(62, 6, 2)\n",
      "(64, 6, 2)\n",
      "(64, 6, 2)\n",
      "(64, 6, 2)\n"
     ]
    },
    {
     "name": "stderr",
     "output_type": "stream",
     "text": [
      "2024-01-23 19:18:35 Saved to /Users/kdesoto/python_repos/survey-agnostic-sn-vae/docs/notebooks/superraenn/lcs_2024-01-23.npz\n"
     ]
    },
    {
     "name": "stdout",
     "output_type": "stream",
     "text": [
      "(64, 6, 2)\n",
      "(64, 6, 2)\n"
     ]
    }
   ],
   "source": [
    "import os\n",
    "from survey_agnostic_sn_vae.preprocessing import (\n",
    "    generate_superraenn_lc_file\n",
    ")\n",
    "\n",
    "OUTPUT_PATH = os.getcwd()\n",
    "\n",
    "transient_dir = os.path.join(\n",
    "    OUTPUT_PATH,\n",
    "    \"transients\"\n",
    ")\n",
    "save_dir = os.path.join(\n",
    "    OUTPUT_PATH,\n",
    "    \"superraenn\"\n",
    ")\n",
    "\n",
    "os.makedirs(save_dir, exist_ok=True)\n",
    "\n",
    "generate_superraenn_lc_file(\n",
    "    transient_dir,\n",
    "    save_dir\n",
    ")"
   ]
  },
  {
   "cell_type": "code",
   "execution_count": null,
   "id": "207347f7-cc04-4558-b5fb-d59ffe314d81",
   "metadata": {},
   "outputs": [],
   "source": [
    "# overlay multiple LCs for same object \n",
    "from survey_agnostic_sn_vae.plotting import plot_lightcurves\n",
    "\n",
    "plot_lightcurves(\n",
    "    transient_obj,\n",
    "    save_path\n",
    ")"
   ]
  }
 ],
 "metadata": {
  "jupytext": {
   "cell_markers": "\"\"\""
  },
  "kernelspec": {
   "display_name": "multimodal_env2",
   "language": "python",
   "name": "multimodal_env2"
  },
  "language_info": {
   "codemirror_mode": {
    "name": "ipython",
    "version": 3
   },
   "file_extension": ".py",
   "mimetype": "text/x-python",
   "name": "python",
   "nbconvert_exporter": "python",
   "pygments_lexer": "ipython3",
   "version": "3.10.13"
  }
 },
 "nbformat": 4,
 "nbformat_minor": 5
}
