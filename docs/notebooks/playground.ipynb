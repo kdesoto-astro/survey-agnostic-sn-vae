{
 "cells": [
  {
   "cell_type": "code",
   "execution_count": 1,
   "id": "6e7bd20d-b71c-47bb-92e8-261973c562a8",
   "metadata": {
    "tags": []
   },
   "outputs": [],
   "source": [
    "import numpy as np\n",
    "# import mosfit\n",
    "# import survey_agnostic_sn_vae\n",
    "# from ....survey_agnostic_sn_vae.data_generation.mosfit2 import *\n"
   ]
  },
  {
   "cell_type": "code",
   "execution_count": 5,
   "id": "c18d4dfa-7a92-4fbe-87ba-c46016ecafea",
   "metadata": {},
   "outputs": [],
   "source": [
    "widths = {'2MASS J':2149.14, \n",
    "          '2MASS H':2609.65, \n",
    "          '2MASS Ks': 2784.55,\n",
    "          'PanSTARRS g':1148.66,\n",
    "          'PanSTARRS r':1397.73,\n",
    "          'PanSTARRS w':2633.01,\n",
    "          'PanSTARRS i':1292.39,\n",
    "          'PanSTARRS z':1038.82,\n",
    "          'PanSTARRS y':665.08,\n",
    "          'LSST u':493.43,\n",
    "          'LSST g':1419.37,\n",
    "          'LSST r':1327.32,\n",
    "          'LSST i':1244.00,\n",
    "          'LSST z':1024.11,\n",
    "          'LSST y':930.04,\n",
    "          'LSST y':930.04,\n",
    "          'Swift UVW2':604.51,\n",
    "          'Swift UVM2':523.60,\n",
    "          'Swift UVW1':701.26,\n",
    "          'Swift U':777.29,\n",
    "          'Swift white':3850.46,\n",
    "          'Swift B':980.50,\n",
    "          'Swift V':745.85,\n",
    "          'ZTF g':1317.15,\n",
    "          'ZTF r':1553.43,\n",
    "          'ZTF i':1488.99}"
   ]
  },
  {
   "cell_type": "code",
   "execution_count": 6,
   "id": "45b52196-8e14-486f-b083-9f2e5eaf7103",
   "metadata": {},
   "outputs": [],
   "source": [
    "filename=\"../../src/survey_agnostic_sn_vae/data_generation/filter_widths_Angstroms.npz\"\n",
    "np.savez(filename, widths=widths) "
   ]
  },
  {
   "cell_type": "code",
   "execution_count": 7,
   "id": "a6fe16fd-d5f1-4d60-a899-07e03499be90",
   "metadata": {},
   "outputs": [
    {
     "data": {
      "text/plain": [
       "1024.11"
      ]
     },
     "execution_count": 7,
     "metadata": {},
     "output_type": "execute_result"
    }
   ],
   "source": [
    "widths = np.load(\"../../src/survey_agnostic_sn_vae/data_generation/filter_widths_Angstroms.npz\", allow_pickle=True)['widths'].item()\n",
    "widths['LSST z']"
   ]
  },
  {
   "cell_type": "code",
   "execution_count": 8,
   "id": "755b5943-a9db-4681-884a-9355f4d514fd",
   "metadata": {},
   "outputs": [
    {
     "data": {
      "text/plain": [
       "dict_keys(['2MASS J', '2MASS H', '2MASS Ks', 'PanSTARRS g', 'PanSTARRS r', 'PanSTARRS w', 'PanSTARRS i', 'PanSTARRS z', 'PanSTARRS y', 'LSST u', 'LSST g', 'LSST r', 'LSST i', 'LSST z', 'LSST y', 'Swift UVW2', 'Swift UVM2', 'Swift UVW1', 'Swift U', 'Swift white', 'Swift B', 'Swift V', 'ZTF g', 'ZTF r', 'ZTF i'])"
      ]
     },
     "execution_count": 8,
     "metadata": {},
     "output_type": "execute_result"
    }
   ],
   "source": [
    "widths.keys()"
   ]
  },
  {
   "cell_type": "markdown",
   "id": "8bd34505-b6b1-4a4f-9254-2a99f2f291f2",
   "metadata": {},
   "source": [
    "Limiting mag info:\n",
    "- 2MASS: https://irsa.ipac.caltech.edu/data/2MASS/docs/releases/allsky/doc/sec2_2b.html#b6\n",
    "\n",
    "- PanSTARRS:https://iopscience.iop.org/article/10.3847/1538-3881/ac540a\n",
    "\n",
    "- LSST:https://smtn-002.lsst.io/#calculating-m5\n",
    "\n",
    "- Swift (M67): https://iopscience.iop.org/article/10.1088/0004-6256/148/6/131\n",
    "\n",
    "- ZTF: https://iopscience.iop.org/article/10.1088/1538-3873/aaecbe"
   ]
  },
  {
   "cell_type": "code",
   "execution_count": 3,
   "id": "2003d927-e441-4b21-8f7b-f124198e547f",
   "metadata": {
    "tags": []
   },
   "outputs": [],
   "source": [
    "lim_mags = {'2MASS J':15.9, \n",
    "          '2MASS H':15.0, \n",
    "          '2MASS Ks':14.2,\n",
    "          'PanSTARRS g':23.3,\n",
    "          'PanSTARRS r':23.2,\n",
    "          'PanSTARRS i':23.1,\n",
    "          'PanSTARRS z':22.3,\n",
    "          'PanSTARRS y':21.4,\n",
    "          'LSST u':23.7,\n",
    "          'LSST g':24.97,\n",
    "          'LSST r':24.52,\n",
    "          'LSST i':24.13,\n",
    "          'LSST z':23.56,\n",
    "          'LSST y':22.55,\n",
    "          'Swift UVW2':21.5,\n",
    "          'Swift UVM2':21.3,\n",
    "          'Swift UVW1':21.,\n",
    "          'Swift U':19.4,\n",
    "          'Swift B':19.5,\n",
    "          'Swift V':18.8,\n",
    "          'ZTF g':20.8,\n",
    "          'ZTF r':20.6,\n",
    "          'ZTF i':19.9}"
   ]
  },
  {
   "cell_type": "code",
   "execution_count": 4,
   "id": "0c930378-320e-4794-a272-b1c18c3556bb",
   "metadata": {
    "tags": []
   },
   "outputs": [],
   "source": [
    "filename=\"../../src/survey_agnostic_sn_vae/data_generation/lim_mags.npz\"\n",
    "np.savez(filename, lim_mags=lim_mags) "
   ]
  },
  {
   "cell_type": "code",
   "execution_count": 11,
   "id": "88237943-17e3-4354-9fa8-603d0d039fa5",
   "metadata": {
    "tags": []
   },
   "outputs": [
    {
     "data": {
      "text/plain": [
       "23.56"
      ]
     },
     "execution_count": 11,
     "metadata": {},
     "output_type": "execute_result"
    }
   ],
   "source": [
    "lim_mags = np.load(\"../../src/survey_agnostic_sn_vae/data_generation/lim_mags.npz\", allow_pickle=True)['lim_mags'].item()\n",
    "lim_mags['LSST z']"
   ]
  },
  {
   "cell_type": "code",
   "execution_count": 12,
   "id": "bc60588f-951a-41db-a72e-dde78c139bff",
   "metadata": {
    "tags": []
   },
   "outputs": [
    {
     "data": {
      "text/plain": [
       "dict_keys(['2MASS J', '2MASS H', '2MASS Ks', 'PanSTARRS g', 'PanSTARRS r', 'PanSTARRS i', 'PanSTARRS z', 'PanSTARRS y', 'LSST u', 'LSST g', 'LSST r', 'LSST i', 'LSST z', 'LSST y', 'Swift UVW2', 'Swift UVM2', 'Swift UVW1', 'Swift U', 'Swift B', 'Swift V', 'ZTF g', 'ZTF r', 'ZTF i'])"
      ]
     },
     "execution_count": 12,
     "metadata": {},
     "output_type": "execute_result"
    }
   ],
   "source": [
    "lim_mags.keys()"
   ]
  },
  {
   "cell_type": "code",
   "execution_count": 6,
   "id": "5c6516c7-66c9-4530-9ce4-a4f4d5e0ddf5",
   "metadata": {
    "tags": []
   },
   "outputs": [
    {
     "ename": "NameError",
     "evalue": "name 'Survey' is not defined",
     "output_type": "error",
     "traceback": [
      "\u001b[0;31m---------------------------------------------------------------------------\u001b[0m",
      "\u001b[0;31mNameError\u001b[0m                                 Traceback (most recent call last)",
      "Input \u001b[0;32mIn [6]\u001b[0m, in \u001b[0;36m<cell line: 2>\u001b[0;34m()\u001b[0m\n\u001b[1;32m      1\u001b[0m bands \u001b[38;5;241m=\u001b[39m [\u001b[38;5;124m'\u001b[39m\u001b[38;5;124mu\u001b[39m\u001b[38;5;124m'\u001b[39m, \u001b[38;5;124m'\u001b[39m\u001b[38;5;124mg\u001b[39m\u001b[38;5;124m'\u001b[39m, \u001b[38;5;124m'\u001b[39m\u001b[38;5;124mr\u001b[39m\u001b[38;5;124m'\u001b[39m, \u001b[38;5;124m'\u001b[39m\u001b[38;5;124mi\u001b[39m\u001b[38;5;124m'\u001b[39m,\u001b[38;5;124m'\u001b[39m\u001b[38;5;124mz\u001b[39m\u001b[38;5;124m'\u001b[39m]\n\u001b[0;32m----> 2\u001b[0m survey \u001b[38;5;241m=\u001b[39m \u001b[43mSurvey\u001b[49m(\u001b[38;5;124m'\u001b[39m\u001b[38;5;124mfake_survey\u001b[39m\u001b[38;5;124m'\u001b[39m, bands, \u001b[38;5;241m0.5\u001b[39m)\n",
      "\u001b[0;31mNameError\u001b[0m: name 'Survey' is not defined"
     ]
    }
   ],
   "source": [
    "# bands = ['u', 'g', 'r', 'i','z']\n",
    "# survey = Survey('fake_survey', bands, 0.5)"
   ]
  },
  {
   "cell_type": "code",
   "execution_count": null,
   "id": "0d3ff7de-1346-47e0-912b-cf71f22f4a65",
   "metadata": {},
   "outputs": [],
   "source": []
  }
 ],
 "metadata": {
  "kernelspec": {
   "display_name": "Python 3 (ipykernel)",
   "language": "python",
   "name": "python3"
  },
  "language_info": {
   "codemirror_mode": {
    "name": "ipython",
    "version": 3
   },
   "file_extension": ".py",
   "mimetype": "text/x-python",
   "name": "python",
   "nbconvert_exporter": "python",
   "pygments_lexer": "ipython3",
   "version": "3.10.11"
  }
 },
 "nbformat": 4,
 "nbformat_minor": 5
}
