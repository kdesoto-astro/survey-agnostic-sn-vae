{
 "cells": [
  {
   "cell_type": "code",
   "execution_count": 19,
   "id": "6e7bd20d-b71c-47bb-92e8-261973c562a8",
   "metadata": {
    "tags": []
   },
   "outputs": [],
   "source": [
    "import numpy as np\n",
    "# import mosfit\n",
    "# import survey_agnostic_sn_vae\n",
    "# from ....survey_agnostic_sn_vae.data_generation.mosfit2 import *\n"
   ]
  },
  {
   "cell_type": "code",
   "execution_count": null,
   "id": "22e2f8c4-5064-4a06-8652-895ab235c48c",
   "metadata": {},
   "outputs": [],
   "source": [
    "bands = [ 'PanSTARRS r',\n",
    "        'PanSTARRS w']\n",
    "fwhm = [1397.73, 2633.01]"
   ]
  },
  {
   "cell_type": "code",
   "execution_count": 20,
   "id": "c18d4dfa-7a92-4fbe-87ba-c46016ecafea",
   "metadata": {},
   "outputs": [],
   "source": [
    "widths = {'2MASS J':2149.14, \n",
    "          '2MASS H':2609.65, \n",
    "          '2MASS Ks': 2784.55,\n",
    "          'PanSTARRS g':1148.66,\n",
    "          'PanSTARRS r':1397.73,\n",
    "          'PanSTARRS w':2633.01,\n",
    "          'PanSTARRS i':1292.39,\n",
    "          'PanSTARRS z':1038.82,\n",
    "          'PanSTARRS y':665.08,\n",
    "          'LSST u':493.43,\n",
    "          'LSST g':1419.37,\n",
    "          'LSST r':1327.32,\n",
    "          'LSST i':1244.00,\n",
    "          'LSST z':1024.11,\n",
    "          'LSST y':930.04,\n",
    "          'LSST y':930.04,\n",
    "          'Swift UVW2':604.51,\n",
    "          'Swift UVM2':523.60,\n",
    "          'Swift UVW1':701.26,\n",
    "          'Swift U':777.29,\n",
    "          'Swift white':3850.46,\n",
    "          'Swift B':980.50,\n",
    "          'Swift V':745.85,\n",
    "          'ZTF g':1317.15,\n",
    "          'ZTF r':1553.43,\n",
    "          'ZTF r':1488.99}"
   ]
  },
  {
   "cell_type": "code",
   "execution_count": 27,
   "id": "45b52196-8e14-486f-b083-9f2e5eaf7103",
   "metadata": {},
   "outputs": [],
   "source": [
    "filename=\"../../src/survey_agnostic_sn_vae/data_generation/filter_widths_Angstroms.npz\"\n",
    "np.savez(filename, widths=widths) "
   ]
  },
  {
   "cell_type": "code",
   "execution_count": 32,
   "id": "a6fe16fd-d5f1-4d60-a899-07e03499be90",
   "metadata": {},
   "outputs": [
    {
     "ename": "IndexError",
     "evalue": "only integers, slices (`:`), ellipsis (`...`), numpy.newaxis (`None`) and integer or boolean arrays are valid indices",
     "output_type": "error",
     "traceback": [
      "\u001b[0;31m---------------------------------------------------------------------------\u001b[0m",
      "\u001b[0;31mIndexError\u001b[0m                                Traceback (most recent call last)",
      "Input \u001b[0;32mIn [32]\u001b[0m, in \u001b[0;36m<cell line: 2>\u001b[0;34m()\u001b[0m\n\u001b[1;32m      1\u001b[0m widths \u001b[38;5;241m=\u001b[39m np\u001b[38;5;241m.\u001b[39mload(\u001b[38;5;124m\"\u001b[39m\u001b[38;5;124m../../src/survey_agnostic_sn_vae/data_generation/filter_widths_Angstroms.npz\u001b[39m\u001b[38;5;124m\"\u001b[39m, allow_pickle\u001b[38;5;241m=\u001b[39m\u001b[38;5;28;01mTrue\u001b[39;00m)[\u001b[38;5;124m'\u001b[39m\u001b[38;5;124mwidths\u001b[39m\u001b[38;5;124m'\u001b[39m]\n\u001b[0;32m----> 2\u001b[0m \u001b[43mwidths\u001b[49m\u001b[43m[\u001b[49m\u001b[38;5;124;43m'\u001b[39;49m\u001b[38;5;124;43mLSST z\u001b[39;49m\u001b[38;5;124;43m'\u001b[39;49m\u001b[43m]\u001b[49m\n",
      "\u001b[0;31mIndexError\u001b[0m: only integers, slices (`:`), ellipsis (`...`), numpy.newaxis (`None`) and integer or boolean arrays are valid indices"
     ]
    }
   ],
   "source": [
    "widths = np.load(\"../../src/survey_agnostic_sn_vae/data_generation/filter_widths_Angstroms.npz\", allow_pickle=True)['widths']\n",
    "widths['LSST z']"
   ]
  },
  {
   "cell_type": "code",
   "execution_count": 6,
   "id": "5c6516c7-66c9-4530-9ce4-a4f4d5e0ddf5",
   "metadata": {
    "tags": []
   },
   "outputs": [
    {
     "ename": "NameError",
     "evalue": "name 'Survey' is not defined",
     "output_type": "error",
     "traceback": [
      "\u001b[0;31m---------------------------------------------------------------------------\u001b[0m",
      "\u001b[0;31mNameError\u001b[0m                                 Traceback (most recent call last)",
      "Input \u001b[0;32mIn [6]\u001b[0m, in \u001b[0;36m<cell line: 2>\u001b[0;34m()\u001b[0m\n\u001b[1;32m      1\u001b[0m bands \u001b[38;5;241m=\u001b[39m [\u001b[38;5;124m'\u001b[39m\u001b[38;5;124mu\u001b[39m\u001b[38;5;124m'\u001b[39m, \u001b[38;5;124m'\u001b[39m\u001b[38;5;124mg\u001b[39m\u001b[38;5;124m'\u001b[39m, \u001b[38;5;124m'\u001b[39m\u001b[38;5;124mr\u001b[39m\u001b[38;5;124m'\u001b[39m, \u001b[38;5;124m'\u001b[39m\u001b[38;5;124mi\u001b[39m\u001b[38;5;124m'\u001b[39m,\u001b[38;5;124m'\u001b[39m\u001b[38;5;124mz\u001b[39m\u001b[38;5;124m'\u001b[39m]\n\u001b[0;32m----> 2\u001b[0m survey \u001b[38;5;241m=\u001b[39m \u001b[43mSurvey\u001b[49m(\u001b[38;5;124m'\u001b[39m\u001b[38;5;124mfake_survey\u001b[39m\u001b[38;5;124m'\u001b[39m, bands, \u001b[38;5;241m0.5\u001b[39m)\n",
      "\u001b[0;31mNameError\u001b[0m: name 'Survey' is not defined"
     ]
    }
   ],
   "source": [
    "# bands = ['u', 'g', 'r', 'i','z']\n",
    "# survey = Survey('fake_survey', bands, 0.5)"
   ]
  },
  {
   "cell_type": "code",
   "execution_count": null,
   "id": "0d3ff7de-1346-47e0-912b-cf71f22f4a65",
   "metadata": {},
   "outputs": [],
   "source": []
  }
 ],
 "metadata": {
  "kernelspec": {
   "display_name": "Python 3 (ipykernel)",
   "language": "python",
   "name": "python3"
  },
  "language_info": {
   "codemirror_mode": {
    "name": "ipython",
    "version": 3
   },
   "file_extension": ".py",
   "mimetype": "text/x-python",
   "name": "python",
   "nbconvert_exporter": "python",
   "pygments_lexer": "ipython3",
   "version": "3.10.0"
  }
 },
 "nbformat": 4,
 "nbformat_minor": 5
}
