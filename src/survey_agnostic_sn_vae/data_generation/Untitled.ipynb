{
 "cells": [
  {
   "cell_type": "code",
   "execution_count": 4,
   "id": "e7aafa1b-817d-41aa-8b38-af43a6b1769d",
   "metadata": {
    "tags": []
   },
   "outputs": [
    {
     "ename": "ModuleNotFoundError",
     "evalue": "No module named 'mosfit'",
     "output_type": "error",
     "traceback": [
      "\u001b[0;31m---------------------------------------------------------------------------\u001b[0m",
      "\u001b[0;31mModuleNotFoundError\u001b[0m                       Traceback (most recent call last)",
      "Input \u001b[0;32mIn [4]\u001b[0m, in \u001b[0;36m<cell line: 1>\u001b[0;34m()\u001b[0m\n\u001b[0;32m----> 1\u001b[0m \u001b[38;5;28;01mfrom\u001b[39;00m \u001b[38;5;21;01mobjects\u001b[39;00m \u001b[38;5;28;01mimport\u001b[39;00m \u001b[38;5;241m*\u001b[39m\n\u001b[1;32m      2\u001b[0m \u001b[38;5;28;01mimport\u001b[39;00m \u001b[38;5;21;01mnumpy\u001b[39;00m \u001b[38;5;28;01mas\u001b[39;00m \u001b[38;5;21;01mnp\u001b[39;00m\n\u001b[1;32m      3\u001b[0m \u001b[38;5;28;01mimport\u001b[39;00m \u001b[38;5;21;01mmatplotlib\u001b[39;00m\u001b[38;5;21;01m.\u001b[39;00m\u001b[38;5;21;01mpyplot\u001b[39;00m \u001b[38;5;28;01mas\u001b[39;00m \u001b[38;5;21;01mplt\u001b[39;00m\n",
      "File \u001b[0;32m~/Desktop/School_Stuff/survey-agnostic-sn-vae/src/survey_agnostic_sn_vae/data_generation/objects.py:2\u001b[0m, in \u001b[0;36m<module>\u001b[0;34m\u001b[0m\n\u001b[1;32m      1\u001b[0m \u001b[38;5;28;01mimport\u001b[39;00m \u001b[38;5;21;01mnumpy\u001b[39;00m \u001b[38;5;28;01mas\u001b[39;00m \u001b[38;5;21;01mnp\u001b[39;00m\n\u001b[0;32m----> 2\u001b[0m \u001b[38;5;28;01mimport\u001b[39;00m \u001b[38;5;21;01mmosfit\u001b[39;00m\n\u001b[1;32m      3\u001b[0m \u001b[38;5;28;01mimport\u001b[39;00m \u001b[38;5;21;01mos\u001b[39;00m\u001b[38;5;241m,\u001b[39m \u001b[38;5;21;01mglob\u001b[39;00m\n\u001b[1;32m      4\u001b[0m \u001b[38;5;28;01mfrom\u001b[39;00m \u001b[38;5;21;01mtyping\u001b[39;00m \u001b[38;5;28;01mimport\u001b[39;00m Dict\n",
      "\u001b[0;31mModuleNotFoundError\u001b[0m: No module named 'mosfit'"
     ]
    }
   ],
   "source": [
    "from objects import *\n",
    "import numpy as np\n",
    "import matplotlib.pyplot as plt\n",
    "# import mosfit\n",
    "# from mosfit2 import *"
   ]
  },
  {
   "cell_type": "code",
   "execution_count": 2,
   "id": "19a790fb-b246-42c5-8b85-571ed7e23c28",
   "metadata": {
    "tags": []
   },
   "outputs": [],
   "source": [
    "bands = ['u', 'g', 'r', 'i','z']\n",
    "survey = Survey('fake_survey', bands, 0.5)"
   ]
  },
  {
   "cell_type": "code",
   "execution_count": 3,
   "id": "8f8c6db9-bb88-40aa-9555-325d4fb0adda",
   "metadata": {
    "tags": []
   },
   "outputs": [
    {
     "data": {
      "text/plain": [
       "[-2.5753314150675766,\n",
       " -2.0753314150675766,\n",
       " -1.5753314150675766,\n",
       " -1.0753314150675766,\n",
       " -0.5753314150675766,\n",
       " -0.07533141506757657,\n",
       " 0.42466858493242343,\n",
       " 0.9246685849324234,\n",
       " 1.4246685849324234,\n",
       " 1.9246685849324234]"
      ]
     },
     "execution_count": 3,
     "metadata": {},
     "output_type": "execute_result"
    }
   ],
   "source": [
    "timepoints = survey.generate_sample_times(10)\n",
    "timepoints"
   ]
  },
  {
   "cell_type": "code",
   "execution_count": 4,
   "id": "f2856bee-cabd-4079-93ad-3d045a317880",
   "metadata": {
    "tags": []
   },
   "outputs": [],
   "source": [
    "fake_fluxes = {band: 10 * np.random.random_sample(len(timepoints)) for band in bands}\n",
    "fake_flux_errors = {band: 0.1 * np.ones_like(fake_fluxes[band]) for band in bands}"
   ]
  },
  {
   "cell_type": "code",
   "execution_count": 5,
   "id": "f1efd75a-314d-4491-9151-e6d8da19529b",
   "metadata": {
    "tags": []
   },
   "outputs": [],
   "source": [
    "lc = LightCurve(timepoints, fake_fluxes, fake_flux_errors, survey = 'lsst')"
   ]
  },
  {
   "cell_type": "code",
   "execution_count": 6,
   "id": "d80b6f7c-76a7-4dc0-be63-05552606d745",
   "metadata": {
    "tags": []
   },
   "outputs": [
    {
     "data": {
      "text/plain": [
       "({'g': 0.9246685849324234}, {'g': 9.547701239045107})"
      ]
     },
     "execution_count": 6,
     "metadata": {},
     "output_type": "execute_result"
    }
   ],
   "source": [
    "lc.find_max_flux(['g'])"
   ]
  },
  {
   "cell_type": "code",
   "execution_count": 7,
   "id": "52587770-6b08-44d4-ace3-406c605207fc",
   "metadata": {
    "tags": []
   },
   "outputs": [
    {
     "name": "stdout",
     "output_type": "stream",
     "text": [
      "../output\n",
      "Switching to MOSFIT path: /Users/anasofiauzsoy/Desktop/School_Stuff/MOSFiT/mosfit\n"
     ]
    }
   ],
   "source": [
    "OUTPUT_PATH = '../output'\n",
    "lsst_survey = Survey(\n",
    "    'LSST',\n",
    "    ['u', 'g', 'r', 'i', 'z', 'y'],\n",
    "    # ['u'],\n",
    "    3\n",
    ")\n",
    "ztf_survey = Survey(\n",
    "    'ZTF',\n",
    "    ['r'],\n",
    "    2\n",
    ")\n",
    "\n",
    "transients, fitter =generate_LCs_from_model(\n",
    "    'slsn',\n",
    "    [lsst_survey,ztf_survey],\n",
    "    1,\n",
    "    output_path=OUTPUT_PATH\n",
    ");"
   ]
  },
  {
   "cell_type": "code",
   "execution_count": 8,
   "id": "0e647062-70ac-41d3-8185-2113efc8926a",
   "metadata": {
    "tags": []
   },
   "outputs": [],
   "source": [
    "model = fitter._model"
   ]
  },
  {
   "cell_type": "code",
   "execution_count": 9,
   "id": "a70491e1-dbea-4686-af77-865b4c148bdc",
   "metadata": {
    "tags": []
   },
   "outputs": [
    {
     "name": "stdout",
     "output_type": "stream",
     "text": [
      "odict_keys(['SVO', 'offset', 'systems', 'instruments', 'bandsets', 'telescopes', 'modes', 'name'])\n",
      "[   0.         6185.19447674]\n",
      " r 6185.194476741523\n"
     ]
    }
   ],
   "source": [
    "for task in model._call_stack:\n",
    "    cur_task = model._call_stack[task]\n",
    "    mod_name = cur_task.get('class', task)\n",
    "    if mod_name == 'photometry':\n",
    "        # self._telescopes = model._modules[task].telescopes()\n",
    "        # self._instruments = model._modules[task].instruments()\n",
    "        # self._bands = model._modules[task].bands()\n",
    "        photometry = model._modules[task]\n",
    "        num_bands = len(photometry._unique_bands)\n",
    "\n",
    "        print(photometry._unique_bands[1].keys())\n",
    "        average_wavelengths = photometry._average_wavelengths\n",
    "        print(np.unique(photometry._average_wavelengths))\n",
    "        mask = average_wavelengths != 0\n",
    "        nonzero_wavelengths = average_wavelengths[mask]\n",
    "        # nonzero_bands = photometry._unique_bands[mask]\n",
    "        for i in range(num_bands):\n",
    "            if mask[i]:\n",
    "                print(photometry._unique_bands[i]['instruments'], \n",
    "                      photometry._unique_bands[i]['name'],\n",
    "                     photometry._average_wavelengths[i])\n",
    "        # for index, band in enumerate(nonzero_bands):\n",
    "        #     print(band['name'], nonzero_bands[index])\n",
    "        \n",
    "        \n",
    "        \n",
    "        # bands = model._modules[task].bands()\n",
    "        # print(np.unique(model._modules[task].instruments()))\n",
    "        # print(np.unique(bands))"
   ]
  },
  {
   "cell_type": "code",
   "execution_count": 7,
   "id": "4c22d36f-b180-40e9-9557-3cf826075851",
   "metadata": {
    "tags": []
   },
   "outputs": [],
   "source": [
    "model = mosfit.model.Model(model='slsn')"
   ]
  },
  {
   "cell_type": "code",
   "execution_count": 56,
   "id": "92f289bb-04be-4a95-88d2-eb490cafc4ad",
   "metadata": {
    "tags": []
   },
   "outputs": [],
   "source": [
    "# model._modules"
   ]
  },
  {
   "cell_type": "code",
   "execution_count": 55,
   "id": "8334b70c-d943-434f-84b2-5540a68d93fe",
   "metadata": {
    "tags": []
   },
   "outputs": [
    {
     "name": "stdout",
     "output_type": "stream",
     "text": [
      "['' 'ACAM1' 'ACIS-S' 'ACS_SBC' 'ACS_WFC' 'ANDICAM' 'Astrometric' 'CFH12k'\n",
      " 'DECam' 'EFOSC' 'FORS1' 'FORS2' 'Flamingos2' 'FourStar' 'GALEX' 'GMOS-N'\n",
      " 'GMOS-S' 'GOTO' 'GPC' 'GROND' 'Gaia' 'HAWKI' 'HSC' 'IMACS' 'IOI' 'IOO'\n",
      " 'Kepler' 'LDSS' 'LDSS-3' 'LDSS3' 'LRIS' 'LSST' 'MIRI' 'MOIRCS' 'NICFPS'\n",
      " 'NIRCam' 'OmegaCAM' 'P200' 'P48' 'PN' 'PS1' 'PSPC' 'Pan-STARRS1' 'ROS2'\n",
      " 'ROTSE' 'SDSS' 'SIRIUS' 'SOFI' 'Sinistro' 'SkyMapper' 'Spitzer'\n",
      " 'Swift-XRT' 'Swope' 'TESS' 'Tripol5' 'UVIS' 'UVIS1' 'UVIT' 'UVOT' 'VIMOS'\n",
      " 'VIRCAM' 'WFC3' 'WFC3_IR' 'WFI' 'WFIRST' 'XRT' 'skymapper']\n",
      "['' 'B' 'BK7' 'B_KPNO' 'B_YALO' 'F070W' 'F090W' 'F1000W' 'F105W' 'F110W'\n",
      " 'F1130W' 'F115W' 'F125LP' 'F125W' 'F1280W' 'F140W' 'F148W' 'F148Wa'\n",
      " 'F1500W' 'F150LP' 'F150W' 'F150W2' 'F154W' 'F160W' 'F169M' 'F172M'\n",
      " 'F1800W' 'F184' 'F200W' 'F2100W' 'F218W' 'F225W' 'F2550W' 'F275W' 'F277W'\n",
      " 'F322W2' 'F336W' 'F356W' 'F36' 'F390W' 'F435W' 'F438W' 'F444W' 'F45'\n",
      " 'F475W' 'F555W' 'F560W' 'F606W' 'F625W' 'F770W' 'F775W' 'F814W' 'F850W'\n",
      " 'FUV' 'G' 'H' 'H158' 'Halpha' 'Halpha-6634' 'Halpha-6755' 'Halpha-6822'\n",
      " 'I' 'I2' 'I_KPNO' 'Ic' 'J' 'J1' 'J129' 'J_ori' 'K' 'Ks' 'Kss' 'L' 'M'\n",
      " 'M2' 'N219M' 'N242W' 'N245M' 'N263M' 'N279N' 'ND1' 'NUV' 'R' 'R062' 'R2'\n",
      " 'ROTSE' 'R_KPNO' 'R_YALO' 'Rc' 'Red' 'TESS' 'U' 'UVM2' 'UVW1' 'UVW2' 'V'\n",
      " 'VIS1' 'VIS2' 'VIS3' 'VR' 'V_KPNO' 'W1' 'W146' 'W2' 'Y' 'Y106' 'Z' 'Z087'\n",
      " 'c' 'cyan' 'g' \"g'\" 'gP1' 'gp1' 'gprime_filter' 'i' \"i'\" 'i2' 'iP1' 'ip1'\n",
      " 'iprime_filter' 'o' 'open' 'orange' 'r' \"r'\" 'r2' 'rP1' 'rp1'\n",
      " 'rprime_filter' 'u' \"u'\" 'uprime_filter' 'v' 'w' 'wP1' 'white' 'wp1' 'y'\n",
      " 'yP1' 'yp1' 'z' \"z'\" 'zP1' 'zp1' 'zprime_filter']\n"
     ]
    }
   ],
   "source": [
    "for task in model._call_stack:\n",
    "    cur_task = model._call_stack[task]\n",
    "    mod_name = cur_task.get('class', task)\n",
    "    if mod_name == 'photometry':\n",
    "        # self._telescopes = model._modules[task].telescopes()\n",
    "        # self._instruments = model._modules[task].instruments()\n",
    "        # self._bands = model._modules[task].bands()\n",
    "        bands = model._modules[task].bands()\n",
    "        print(np.unique(model._modules[task].instruments()))\n",
    "        print(np.unique(bands))"
   ]
  },
  {
   "cell_type": "code",
   "execution_count": 35,
   "id": "067b63b6-98e9-4ecb-97b5-72ac7490c65b",
   "metadata": {
    "tags": []
   },
   "outputs": [
    {
     "data": {
      "text/plain": [
       "OrderedDict([('time', ['required', 'numeric']),\n",
       "             ('magnitude', ['optional', 'numeric']),\n",
       "             ('e_magnitude', ['optional', 'numeric']),\n",
       "             ('e_upper_magnitude', ['optional', 'numeric']),\n",
       "             ('e_lower_magnitude', ['optional', 'numeric']),\n",
       "             ('zeropoint', ['optional', 'numeric']),\n",
       "             ('band', 'optional'),\n",
       "             ('frequency', ['optional', 'numeric']),\n",
       "             ('u_frequency', 'optional'),\n",
       "             ('fluxdensity', ['optional', 'numeric']),\n",
       "             ('u_fluxdensity', 'optional'),\n",
       "             ('e_fluxdensity', ['optional', 'numeric']),\n",
       "             ('e_upper_fluxdensity', ['optional', 'numeric']),\n",
       "             ('e_lower_fluxdensity', ['optional', 'numeric']),\n",
       "             ('countrate', ['optional', 'numeric']),\n",
       "             ('e_countrate', ['optional', 'numeric']),\n",
       "             ('u_countrate', 'optional'),\n",
       "             ('e_upper_countrate', ['optional', 'numeric']),\n",
       "             ('e_lower_countrate', ['optional', 'numeric']),\n",
       "             ('telescope', 'optional'),\n",
       "             ('instrument', 'optional'),\n",
       "             ('bandset', 'optional'),\n",
       "             ('system', 'optional'),\n",
       "             ('mode', 'optional'),\n",
       "             ('upperlimit', ['optional', 'boolean']),\n",
       "             ('includeshost', 'exclude'),\n",
       "             ('host', 'exclude'),\n",
       "             ('kcorrected', 'exclude'),\n",
       "             ('scorrected', 'exclude'),\n",
       "             ('realization', 'exclude'),\n",
       "             ('source', 'optional')])"
      ]
     },
     "execution_count": 35,
     "metadata": {},
     "output_type": "execute_result"
    }
   ],
   "source": [
    "model._call_stack['transient']['keys']['photometry']"
   ]
  },
  {
   "cell_type": "code",
   "execution_count": 28,
   "id": "91264c14-6397-4dfb-b0b5-e2fa927cb448",
   "metadata": {
    "tags": []
   },
   "outputs": [
    {
     "data": {
      "text/plain": [
       "odict_items([('kind', 'data'), ('keys', OrderedDict([('photometry', OrderedDict([('time', ['required', 'numeric']), ('magnitude', ['optional', 'numeric']), ('e_magnitude', ['optional', 'numeric']), ('e_upper_magnitude', ['optional', 'numeric']), ('e_lower_magnitude', ['optional', 'numeric']), ('zeropoint', ['optional', 'numeric']), ('band', 'optional'), ('frequency', ['optional', 'numeric']), ('u_frequency', 'optional'), ('fluxdensity', ['optional', 'numeric']), ('u_fluxdensity', 'optional'), ('e_fluxdensity', ['optional', 'numeric']), ('e_upper_fluxdensity', ['optional', 'numeric']), ('e_lower_fluxdensity', ['optional', 'numeric']), ('countrate', ['optional', 'numeric']), ('e_countrate', ['optional', 'numeric']), ('u_countrate', 'optional'), ('e_upper_countrate', ['optional', 'numeric']), ('e_lower_countrate', ['optional', 'numeric']), ('telescope', 'optional'), ('instrument', 'optional'), ('bandset', 'optional'), ('system', 'optional'), ('mode', 'optional'), ('upperlimit', ['optional', 'boolean']), ('includeshost', 'exclude'), ('host', 'exclude'), ('kcorrected', 'exclude'), ('scorrected', 'exclude'), ('realization', 'exclude'), ('source', 'optional')])), ('ebv', OrderedDict([('value', 'recommended')])), ('lumdist', OrderedDict([('value', 'recommended')])), ('redshift', OrderedDict([('value', 'recommended')])), ('maxdate', OrderedDict([('value', 'optional')])), ('sources', OrderedDict([('bibcode', 'optional'), ('arxivid', 'optional'), ('alias', 'required')]))])), ('roots', ['objective', 'output']), ('depth', 13)])"
      ]
     },
     "execution_count": 28,
     "metadata": {},
     "output_type": "execute_result"
    }
   ],
   "source": [
    "model._call_stack['transient'].items()"
   ]
  },
  {
   "cell_type": "code",
   "execution_count": 25,
   "id": "4679e21d-9c02-4adc-b558-5a8465e70ae1",
   "metadata": {
    "tags": []
   },
   "outputs": [
    {
     "data": {
      "text/plain": [
       "odict_items([('transient', OrderedDict([('kind', 'data'), ('keys', OrderedDict([('photometry', OrderedDict([('time', ['required', 'numeric']), ('magnitude', ['optional', 'numeric']), ('e_magnitude', ['optional', 'numeric']), ('e_upper_magnitude', ['optional', 'numeric']), ('e_lower_magnitude', ['optional', 'numeric']), ('zeropoint', ['optional', 'numeric']), ('band', 'optional'), ('frequency', ['optional', 'numeric']), ('u_frequency', 'optional'), ('fluxdensity', ['optional', 'numeric']), ('u_fluxdensity', 'optional'), ('e_fluxdensity', ['optional', 'numeric']), ('e_upper_fluxdensity', ['optional', 'numeric']), ('e_lower_fluxdensity', ['optional', 'numeric']), ('countrate', ['optional', 'numeric']), ('e_countrate', ['optional', 'numeric']), ('u_countrate', 'optional'), ('e_upper_countrate', ['optional', 'numeric']), ('e_lower_countrate', ['optional', 'numeric']), ('telescope', 'optional'), ('instrument', 'optional'), ('bandset', 'optional'), ('system', 'optional'), ('mode', 'optional'), ('upperlimit', ['optional', 'boolean']), ('includeshost', 'exclude'), ('host', 'exclude'), ('kcorrected', 'exclude'), ('scorrected', 'exclude'), ('realization', 'exclude'), ('source', 'optional')])), ('ebv', OrderedDict([('value', 'recommended')])), ('lumdist', OrderedDict([('value', 'recommended')])), ('redshift', OrderedDict([('value', 'recommended')])), ('maxdate', OrderedDict([('value', 'optional')])), ('sources', OrderedDict([('bibcode', 'optional'), ('arxivid', 'optional'), ('alias', 'required')]))])), ('roots', ['objective', 'output']), ('depth', 13)])), ('lumdist', OrderedDict([('kind', 'parameter'), ('class', 'luminositydistance'), ('min_value', 1e-05), ('max_value', 100000.0), ('log', True), ('inputs', ['transient', ['redshift', 'conditional']]), ('latex', 'd_{L}'), ('requests', OrderedDict([('redshift', 'redshift')])), ('roots', ['objective', 'output']), ('depth', 12)])), ('redshift', OrderedDict([('kind', 'parameter'), ('class', 'redshift'), ('min_value', 0.0), ('max_value', 10.0), ('inputs', ['transient', 'lumdist']), ('latex', 'z'), ('requests', OrderedDict([('lumdist', 'lumdist')])), ('roots', ['objective', 'output']), ('depth', 11)])), ('alltimes', OrderedDict([('kind', 'array'), ('inputs', ['transient']), ('requests', OrderedDict([('photometry', 'photometry')])), ('roots', ['objective', 'output']), ('depth', 11)])), ('texplosion', OrderedDict([('kind', 'parameter'), ('value', 0.0), ('class', 'parameter'), ('latex', 't_{\\\\rm exp}\\\\,{\\\\rm (days)}'), ('requests', OrderedDict([('min_times', 'transient')])), ('roots', ['objective', 'output']), ('depth', 11), ('min_value', -500.0), ('max_value', 0.0)])), ('resttimes', OrderedDict([('kind', 'array'), ('inputs', ['alltimes', 'redshift', 'texplosion']), ('roots', ['objective', 'output']), ('depth', 10)])), ('densetimes', OrderedDict([('kind', 'array'), ('inputs', ['resttimes']), ('roots', ['objective', 'output']), ('depth', 9)])), ('Pspin', OrderedDict([('kind', 'parameter'), ('value', 2.0), ('class', 'parameter'), ('latex', 'P_{\\\\rm spin}\\\\,{\\\\rm (ms)}'), ('roots', ['objective', 'output']), ('depth', 9), ('min_value', 1.0), ('max_value', 10.0)])), ('Bfield', OrderedDict([('kind', 'parameter'), ('value', 1.0), ('class', 'parameter'), ('latex', 'B\\\\,(10^{14}\\\\,{\\\\rm G})'), ('roots', ['objective', 'output']), ('depth', 9), ('min_value', 0.1), ('max_value', 10.0)])), ('Mns', OrderedDict([('kind', 'parameter'), ('value', 2.0), ('class', 'parameter'), ('latex', 'M_{\\\\rm NS}\\\\,(M_\\\\odot)'), ('roots', ['objective', 'output']), ('depth', 9), ('min_value', 1.0), ('max_value', 2.0)])), ('thetaPB', OrderedDict([('kind', 'parameter'), ('value', 0.785398163), ('class', 'parameter'), ('latex', '\\\\theta_{\\\\rm PB}'), ('roots', ['objective', 'output']), ('depth', 9), ('min_value', 0.0), ('max_value', 1.57079632679)])), ('mejecta', OrderedDict([('kind', 'parameter'), ('value', 1.0), ('class', 'parameter'), ('latex', 'M_{\\\\rm ej}\\\\,(M_\\\\odot)'), ('roots', ['objective', 'output']), ('depth', 9), ('min_value', 0.1), ('max_value', 100.0), ('log', True)])), ('kappa', OrderedDict([('kind', 'parameter'), ('value', 0.2), ('class', 'parameter'), ('latex', '\\\\kappa\\\\,({\\\\rm cm}^{2}\\\\,{\\\\rm g}^{-1})'), ('roots', ['objective', 'output']), ('depth', 8), ('min_value', 0.05), ('max_value', 0.2)])), ('kappagamma', OrderedDict([('kind', 'parameter'), ('value', 10.0), ('class', 'parameter'), ('latex', '\\\\kappa_\\\\gamma\\\\,({\\\\rm cm}^{2}\\\\,{\\\\rm g}^{-1})'), ('roots', ['objective', 'output']), ('depth', 8), ('min_value', 0.1), ('max_value', 10000.0), ('log', True)])), ('vejecta', OrderedDict([('kind', 'parameter'), ('value', 10000.0), ('class', 'parameter'), ('latex', 'v_{\\\\rm ej}\\\\,({\\\\rm km\\\\,s}^{-1})'), ('roots', ['objective', 'output']), ('depth', 8), ('min_value', 5000.0), ('max_value', 20000.0)])), ('magnetar', OrderedDict([('kind', 'engine'), ('inputs', ['densetimes', 'mejecta', 'Pspin', 'Bfield', 'Mns', 'thetaPB', 'texplosion']), ('roots', ['objective', 'output']), ('depth', 8)])), ('temperature', OrderedDict([('kind', 'parameter'), ('value', 5000.0), ('class', 'parameter'), ('latex', 'T_{\\\\min}\\\\,{\\\\rm (K)}'), ('roots', ['objective', 'output']), ('depth', 7), ('min_value', 3000.0), ('max_value', 10000.0)])), ('diffusion', OrderedDict([('kind', 'transform'), ('inputs', ['magnetar', 'kappa', 'kappagamma', 'mejecta', 'texplosion', 'vejecta']), ('roots', ['objective', 'output']), ('depth', 7)])), ('cutoff_wavelength', OrderedDict([('kind', 'parameter'), ('value', 3000.0), ('class', 'parameter'), ('latex', '\\\\lambda_{\\\\rm cutoff}'), ('roots', ['objective', 'output']), ('depth', 6)])), ('temperature_floor', OrderedDict([('kind', 'photosphere'), ('inputs', ['texplosion', 'diffusion', 'temperature']), ('roots', ['objective', 'output']), ('depth', 6)])), ('ebv', OrderedDict([('kind', 'parameter'), ('value', 0.0), ('class', 'parameter'), ('inputs', ['transient']), ('latex', 'E({\\\\rm B} - {\\\\rm V})'), ('roots', ['objective', 'output']), ('depth', 5)])), ('rvhost', OrderedDict([('kind', 'parameter'), ('value', 3.1), ('class', 'parameter'), ('latex', 'R_{\\\\rm V, host}'), ('roots', ['objective', 'output']), ('depth', 5)])), ('nhhost', OrderedDict([('kind', 'parameter'), ('value', 1e+18), ('class', 'parameter'), ('latex', 'n_{\\\\rm H,host}'), ('derived_keys', 'avhost'), ('roots', ['objective', 'output']), ('depth', 5), ('min_value', 1e+16), ('max_value', 1e+23), ('log', True)])), ('blackbody_cutoff', OrderedDict([('kind', 'sed'), ('inputs', ['texplosion', 'redshift', 'temperature_floor', 'cutoff_wavelength']), ('requests', OrderedDict([('band_wave_ranges', 'photometry')])), ('roots', ['objective', 'output']), ('depth', 5)])), ('losextinction', OrderedDict([('kind', 'sed'), ('inputs', ['blackbody_cutoff', 'nhhost', 'rvhost', 'ebv']), ('requests', OrderedDict([('band_wave_ranges', 'photometry')])), ('roots', ['objective', 'output']), ('depth', 4)])), ('default_upper_limit_error', OrderedDict([('kind', 'parameter'), ('value', 0.1), ('class', 'constant'), ('roots', ['objective', 'output']), ('depth', 3)])), ('default_no_error_bar_error', OrderedDict([('kind', 'parameter'), ('value', 0.0), ('class', 'constant'), ('roots', ['objective', 'output']), ('depth', 3)])), ('variance', OrderedDict([('kind', 'parameter'), ('value', 1.0), ('class', 'variance'), ('latex', '\\\\sigma'), ('roots', ['objective', 'output']), ('depth', 3), ('min_value', 0.001), ('max_value', 100.0), ('log', True)])), ('codeltatime', OrderedDict([('kind', 'parameter'), ('value', -1.0), ('class', 'covariance'), ('fixed', True), ('latex', 'l_t'), ('roots', ['objective', 'output']), ('depth', 3), ('min_value', 0.001), ('max_value', 100.0), ('log', True)])), ('codeltalambda', OrderedDict([('kind', 'parameter'), ('value', -1.0), ('class', 'covariance'), ('fixed', True), ('latex', 'l_\\\\lambda'), ('roots', ['objective', 'output']), ('depth', 3), ('min_value', 0.1), ('max_value', 10000.0), ('log', True)])), ('photometry', OrderedDict([('kind', 'observable'), ('supports', ['ultraviolet', 'optical', 'infrared']), ('inputs', ['losextinction', 'lumdist']), ('roots', ['objective', 'output']), ('depth', 3)])), ('fitkernel', OrderedDict([('kind', 'array'), ('inputs', ['transient', 'variance', 'codeltatime', 'codeltalambda', 'photometry', 'default_upper_limit_error', 'default_no_error_bar_error']), ('requests', OrderedDict([('average_wavelengths', 'photometry'), ('variance_bands', 'photometry')])), ('class', 'kernel'), ('roots', ['objective', 'output']), ('depth', 2)])), ('neutrino_energy', OrderedDict([('kind', 'parameter'), ('value', 1e+51), ('class', 'parameter'), ('latex', 'E_{\\\\nu}'), ('roots', ['objective']), ('depth', 2)])), ('tnebular_min', OrderedDict([('kind', 'parameter'), ('value', 100.0), ('class', 'parameter'), ('latex', 't_{\\\\rm neb}'), ('roots', ['objective']), ('depth', 2)])), ('diagonal', OrderedDict([('kind', 'array'), ('inputs', ['fitkernel']), ('roots', ['objective', 'output']), ('depth', 1)])), ('oakernel', OrderedDict([('kind', 'array'), ('inputs', ['transient', 'variance', 'codeltatime', 'codeltalambda', 'photometry', 'default_upper_limit_error', 'default_no_error_bar_error']), ('requests', OrderedDict([('average_wavelengths', 'photometry'), ('variance_bands', 'photometry')])), ('type', 'oa'), ('class', 'kernel'), ('roots', ['output']), ('depth', 1)])), ('aokernel', OrderedDict([('kind', 'array'), ('inputs', ['transient', 'variance', 'codeltatime', 'codeltalambda', 'photometry', 'default_upper_limit_error', 'default_no_error_bar_error']), ('requests', OrderedDict([('average_wavelengths', 'photometry'), ('variance_bands', 'photometry')])), ('type', 'ao'), ('class', 'kernel'), ('roots', ['output']), ('depth', 1)])), ('fullkernel', OrderedDict([('kind', 'array'), ('inputs', ['transient', 'variance', 'codeltatime', 'codeltalambda', 'photometry', 'default_upper_limit_error', 'default_no_error_bar_error']), ('requests', OrderedDict([('average_wavelengths', 'photometry'), ('variance_bands', 'photometry')])), ('type', 'full'), ('class', 'kernel'), ('roots', ['output']), ('depth', 1)])), ('slsn_constraints', OrderedDict([('kind', 'constraint'), ('inputs', ['mejecta', 'vejecta', 'kappa', 'tnebular_min', 'Pspin', 'Mns', 'diffusion', 'texplosion', 'redshift', 'alltimes', 'neutrino_energy']), ('roots', ['objective']), ('depth', 1)])), ('likelihood', OrderedDict([('kind', 'objective'), ('inputs', ['diagonal', 'slsn_constraints']), ('roots', ['objective']), ('depth', 0)])), ('fitlc', OrderedDict([('kind', 'output'), ('inputs', ['transient', 'photometry', 'fitkernel', 'oakernel', 'aokernel', 'fullkernel', 'diagonal']), ('class', 'lightcurve'), ('roots', ['output']), ('depth', 0)]))])"
      ]
     },
     "execution_count": 25,
     "metadata": {},
     "output_type": "execute_result"
    }
   ],
   "source": [
    "model._call_stack.items()"
   ]
  },
  {
   "cell_type": "code",
   "execution_count": 22,
   "id": "068e8266-776f-4c14-96e3-8138de1ce8d9",
   "metadata": {
    "tags": []
   },
   "outputs": [
    {
     "data": {
      "text/plain": [
       "OrderedDict([('kind', 'observable'),\n",
       "             ('supports', ['ultraviolet', 'optical', 'infrared']),\n",
       "             ('inputs', ['losextinction', 'lumdist']),\n",
       "             ('roots', ['objective', 'output']),\n",
       "             ('depth', 3)])"
      ]
     },
     "execution_count": 22,
     "metadata": {},
     "output_type": "execute_result"
    }
   ],
   "source": [
    "model._call_stack['photometry']"
   ]
  },
  {
   "cell_type": "code",
   "execution_count": 8,
   "id": "900176fc-b7c3-4b2d-8055-d669bd20ad88",
   "metadata": {
    "tags": []
   },
   "outputs": [],
   "source": [
    "from mosfit import modules"
   ]
  },
  {
   "cell_type": "code",
   "execution_count": 12,
   "id": "52ec8d9a-890f-4bdf-a3a1-546899311e96",
   "metadata": {
    "tags": []
   },
   "outputs": [],
   "source": [
    "module = modules.Module('name', model)"
   ]
  },
  {
   "cell_type": "code",
   "execution_count": 17,
   "id": "12bcb63c-e6a4-4a10-ae9d-229b8e50c8b1",
   "metadata": {
    "tags": []
   },
   "outputs": [
    {
     "ename": "TypeError",
     "evalue": "Module.__init__() missing 2 required positional arguments: 'name' and 'model'",
     "output_type": "error",
     "traceback": [
      "\u001b[0;31m---------------------------------------------------------------------------\u001b[0m",
      "\u001b[0;31mTypeError\u001b[0m                                 Traceback (most recent call last)",
      "Input \u001b[0;32mIn [17]\u001b[0m, in \u001b[0;36m<cell line: 1>\u001b[0;34m()\u001b[0m\n\u001b[0;32m----> 1\u001b[0m \u001b[43mmodules\u001b[49m\u001b[38;5;241;43m.\u001b[39;49m\u001b[43mPhotometry\u001b[49m\u001b[43m(\u001b[49m\u001b[43m)\u001b[49m\n",
      "File \u001b[0;32m~/Desktop/School_Stuff/MOSFiT/mosfit/modules/observables/photometry.py:29\u001b[0m, in \u001b[0;36mPhotometry.__init__\u001b[0;34m(self, **kwargs)\u001b[0m\n\u001b[1;32m     27\u001b[0m \u001b[38;5;28;01mdef\u001b[39;00m \u001b[38;5;21m__init__\u001b[39m(\u001b[38;5;28mself\u001b[39m, \u001b[38;5;241m*\u001b[39m\u001b[38;5;241m*\u001b[39mkwargs):\n\u001b[1;32m     28\u001b[0m \u001b[38;5;250m    \u001b[39m\u001b[38;5;124;03m\"\"\"Initialize module.\"\"\"\u001b[39;00m\n\u001b[0;32m---> 29\u001b[0m     \u001b[38;5;28;43msuper\u001b[39;49m\u001b[43m(\u001b[49m\u001b[43mPhotometry\u001b[49m\u001b[43m,\u001b[49m\u001b[43m \u001b[49m\u001b[38;5;28;43mself\u001b[39;49m\u001b[43m)\u001b[49m\u001b[38;5;241;43m.\u001b[39;49m\u001b[38;5;21;43m__init__\u001b[39;49m\u001b[43m(\u001b[49m\u001b[38;5;241;43m*\u001b[39;49m\u001b[38;5;241;43m*\u001b[39;49m\u001b[43mkwargs\u001b[49m\u001b[43m)\u001b[49m\n\u001b[1;32m     31\u001b[0m     bands \u001b[38;5;241m=\u001b[39m kwargs\u001b[38;5;241m.\u001b[39mget(\u001b[38;5;124m'\u001b[39m\u001b[38;5;124mbands\u001b[39m\u001b[38;5;124m'\u001b[39m, \u001b[38;5;124m'\u001b[39m\u001b[38;5;124m'\u001b[39m)\n\u001b[1;32m     32\u001b[0m     bands \u001b[38;5;241m=\u001b[39m listify(bands)\n",
      "\u001b[0;31mTypeError\u001b[0m: Module.__init__() missing 2 required positional arguments: 'name' and 'model'"
     ]
    }
   ],
   "source": [
    "modules.Photometry()"
   ]
  },
  {
   "cell_type": "code",
   "execution_count": 15,
   "id": "2ea6fb32-f0b6-4cee-a76d-716c51f36341",
   "metadata": {
    "tags": []
   },
   "outputs": [
    {
     "ename": "TypeError",
     "evalue": "Object of type ndarray is not JSON serializable",
     "output_type": "error",
     "traceback": [
      "\u001b[0;31m---------------------------------------------------------------------------\u001b[0m",
      "\u001b[0;31mTypeError\u001b[0m                                 Traceback (most recent call last)",
      "File \u001b[0;32m~/anaconda/envs/py310_clone/lib/python3.10/site-packages/IPython/core/formatters.py:707\u001b[0m, in \u001b[0;36mPlainTextFormatter.__call__\u001b[0;34m(self, obj)\u001b[0m\n\u001b[1;32m    700\u001b[0m stream \u001b[38;5;241m=\u001b[39m StringIO()\n\u001b[1;32m    701\u001b[0m printer \u001b[38;5;241m=\u001b[39m pretty\u001b[38;5;241m.\u001b[39mRepresentationPrinter(stream, \u001b[38;5;28mself\u001b[39m\u001b[38;5;241m.\u001b[39mverbose,\n\u001b[1;32m    702\u001b[0m     \u001b[38;5;28mself\u001b[39m\u001b[38;5;241m.\u001b[39mmax_width, \u001b[38;5;28mself\u001b[39m\u001b[38;5;241m.\u001b[39mnewline,\n\u001b[1;32m    703\u001b[0m     max_seq_length\u001b[38;5;241m=\u001b[39m\u001b[38;5;28mself\u001b[39m\u001b[38;5;241m.\u001b[39mmax_seq_length,\n\u001b[1;32m    704\u001b[0m     singleton_pprinters\u001b[38;5;241m=\u001b[39m\u001b[38;5;28mself\u001b[39m\u001b[38;5;241m.\u001b[39msingleton_printers,\n\u001b[1;32m    705\u001b[0m     type_pprinters\u001b[38;5;241m=\u001b[39m\u001b[38;5;28mself\u001b[39m\u001b[38;5;241m.\u001b[39mtype_printers,\n\u001b[1;32m    706\u001b[0m     deferred_pprinters\u001b[38;5;241m=\u001b[39m\u001b[38;5;28mself\u001b[39m\u001b[38;5;241m.\u001b[39mdeferred_printers)\n\u001b[0;32m--> 707\u001b[0m \u001b[43mprinter\u001b[49m\u001b[38;5;241;43m.\u001b[39;49m\u001b[43mpretty\u001b[49m\u001b[43m(\u001b[49m\u001b[43mobj\u001b[49m\u001b[43m)\u001b[49m\n\u001b[1;32m    708\u001b[0m printer\u001b[38;5;241m.\u001b[39mflush()\n\u001b[1;32m    709\u001b[0m \u001b[38;5;28;01mreturn\u001b[39;00m stream\u001b[38;5;241m.\u001b[39mgetvalue()\n",
      "File \u001b[0;32m~/anaconda/envs/py310_clone/lib/python3.10/site-packages/IPython/lib/pretty.py:398\u001b[0m, in \u001b[0;36mRepresentationPrinter.pretty\u001b[0;34m(self, obj)\u001b[0m\n\u001b[1;32m    396\u001b[0m printer \u001b[38;5;241m=\u001b[39m \u001b[38;5;28mself\u001b[39m\u001b[38;5;241m.\u001b[39m_in_deferred_types(\u001b[38;5;28mcls\u001b[39m)\n\u001b[1;32m    397\u001b[0m \u001b[38;5;28;01mif\u001b[39;00m printer \u001b[38;5;129;01mis\u001b[39;00m \u001b[38;5;129;01mnot\u001b[39;00m \u001b[38;5;28;01mNone\u001b[39;00m:\n\u001b[0;32m--> 398\u001b[0m     \u001b[38;5;28;01mreturn\u001b[39;00m \u001b[43mprinter\u001b[49m\u001b[43m(\u001b[49m\u001b[43mobj\u001b[49m\u001b[43m,\u001b[49m\u001b[43m \u001b[49m\u001b[38;5;28;43mself\u001b[39;49m\u001b[43m,\u001b[49m\u001b[43m \u001b[49m\u001b[43mcycle\u001b[49m\u001b[43m)\u001b[49m\n\u001b[1;32m    399\u001b[0m \u001b[38;5;28;01melse\u001b[39;00m:\n\u001b[1;32m    400\u001b[0m     \u001b[38;5;66;03m# Finally look for special method names.\u001b[39;00m\n\u001b[1;32m    401\u001b[0m     \u001b[38;5;66;03m# Some objects automatically create any requested\u001b[39;00m\n\u001b[1;32m    402\u001b[0m     \u001b[38;5;66;03m# attribute. Try to ignore most of them by checking for\u001b[39;00m\n\u001b[1;32m    403\u001b[0m     \u001b[38;5;66;03m# callability.\u001b[39;00m\n\u001b[1;32m    404\u001b[0m     \u001b[38;5;28;01mif\u001b[39;00m \u001b[38;5;124m'\u001b[39m\u001b[38;5;124m_repr_pretty_\u001b[39m\u001b[38;5;124m'\u001b[39m \u001b[38;5;129;01min\u001b[39;00m \u001b[38;5;28mcls\u001b[39m\u001b[38;5;241m.\u001b[39m\u001b[38;5;18m__dict__\u001b[39m:\n",
      "File \u001b[0;32m~/anaconda/envs/py310_clone/lib/python3.10/site-packages/IPython/lib/pretty.py:903\u001b[0m, in \u001b[0;36m_ordereddict_pprint\u001b[0;34m(obj, p, cycle)\u001b[0m\n\u001b[1;32m    901\u001b[0m     p\u001b[38;5;241m.\u001b[39mpretty(cls_ctor(RawText(\u001b[38;5;124m\"\u001b[39m\u001b[38;5;124m...\u001b[39m\u001b[38;5;124m\"\u001b[39m)))\n\u001b[1;32m    902\u001b[0m \u001b[38;5;28;01melif\u001b[39;00m \u001b[38;5;28mlen\u001b[39m(obj):\n\u001b[0;32m--> 903\u001b[0m     \u001b[43mp\u001b[49m\u001b[38;5;241;43m.\u001b[39;49m\u001b[43mpretty\u001b[49m\u001b[43m(\u001b[49m\u001b[43mcls_ctor\u001b[49m\u001b[43m(\u001b[49m\u001b[38;5;28;43mlist\u001b[39;49m\u001b[43m(\u001b[49m\u001b[43mobj\u001b[49m\u001b[38;5;241;43m.\u001b[39;49m\u001b[43mitems\u001b[49m\u001b[43m(\u001b[49m\u001b[43m)\u001b[49m\u001b[43m)\u001b[49m\u001b[43m)\u001b[49m\u001b[43m)\u001b[49m\n\u001b[1;32m    904\u001b[0m \u001b[38;5;28;01melse\u001b[39;00m:\n\u001b[1;32m    905\u001b[0m     p\u001b[38;5;241m.\u001b[39mpretty(cls_ctor())\n",
      "File \u001b[0;32m~/anaconda/envs/py310_clone/lib/python3.10/site-packages/IPython/lib/pretty.py:407\u001b[0m, in \u001b[0;36mRepresentationPrinter.pretty\u001b[0;34m(self, obj)\u001b[0m\n\u001b[1;32m    405\u001b[0m     meth \u001b[38;5;241m=\u001b[39m \u001b[38;5;28mcls\u001b[39m\u001b[38;5;241m.\u001b[39m_repr_pretty_\n\u001b[1;32m    406\u001b[0m     \u001b[38;5;28;01mif\u001b[39;00m \u001b[38;5;28mcallable\u001b[39m(meth):\n\u001b[0;32m--> 407\u001b[0m         \u001b[38;5;28;01mreturn\u001b[39;00m \u001b[43mmeth\u001b[49m\u001b[43m(\u001b[49m\u001b[43mobj\u001b[49m\u001b[43m,\u001b[49m\u001b[43m \u001b[49m\u001b[38;5;28;43mself\u001b[39;49m\u001b[43m,\u001b[49m\u001b[43m \u001b[49m\u001b[43mcycle\u001b[49m\u001b[43m)\u001b[49m\n\u001b[1;32m    408\u001b[0m \u001b[38;5;28;01mif\u001b[39;00m \u001b[38;5;28mcls\u001b[39m \u001b[38;5;129;01mis\u001b[39;00m \u001b[38;5;129;01mnot\u001b[39;00m \u001b[38;5;28mobject\u001b[39m \\\n\u001b[1;32m    409\u001b[0m         \u001b[38;5;129;01mand\u001b[39;00m \u001b[38;5;28mcallable\u001b[39m(\u001b[38;5;28mcls\u001b[39m\u001b[38;5;241m.\u001b[39m\u001b[38;5;18m__dict__\u001b[39m\u001b[38;5;241m.\u001b[39mget(\u001b[38;5;124m'\u001b[39m\u001b[38;5;124m__repr__\u001b[39m\u001b[38;5;124m'\u001b[39m)):\n\u001b[1;32m    410\u001b[0m     \u001b[38;5;28;01mreturn\u001b[39;00m _repr_pprint(obj, \u001b[38;5;28mself\u001b[39m, cycle)\n",
      "File \u001b[0;32m~/anaconda/envs/py310_clone/lib/python3.10/site-packages/IPython/lib/pretty.py:564\u001b[0m, in \u001b[0;36mCallExpression._repr_pretty_\u001b[0;34m(self, p, cycle)\u001b[0m\n\u001b[1;32m    562\u001b[0m \u001b[38;5;28;01mfor\u001b[39;00m arg \u001b[38;5;129;01min\u001b[39;00m \u001b[38;5;28mself\u001b[39m\u001b[38;5;241m.\u001b[39margs:\n\u001b[1;32m    563\u001b[0m     new_item()\n\u001b[0;32m--> 564\u001b[0m     \u001b[43mp\u001b[49m\u001b[38;5;241;43m.\u001b[39;49m\u001b[43mpretty\u001b[49m\u001b[43m(\u001b[49m\u001b[43marg\u001b[49m\u001b[43m)\u001b[49m\n\u001b[1;32m    565\u001b[0m \u001b[38;5;28;01mfor\u001b[39;00m arg_name, arg \u001b[38;5;129;01min\u001b[39;00m \u001b[38;5;28mself\u001b[39m\u001b[38;5;241m.\u001b[39mkwargs\u001b[38;5;241m.\u001b[39mitems():\n\u001b[1;32m    566\u001b[0m     new_item()\n",
      "File \u001b[0;32m~/anaconda/envs/py310_clone/lib/python3.10/site-packages/IPython/lib/pretty.py:393\u001b[0m, in \u001b[0;36mRepresentationPrinter.pretty\u001b[0;34m(self, obj)\u001b[0m\n\u001b[1;32m    390\u001b[0m \u001b[38;5;28;01mfor\u001b[39;00m \u001b[38;5;28mcls\u001b[39m \u001b[38;5;129;01min\u001b[39;00m _get_mro(obj_class):\n\u001b[1;32m    391\u001b[0m     \u001b[38;5;28;01mif\u001b[39;00m \u001b[38;5;28mcls\u001b[39m \u001b[38;5;129;01min\u001b[39;00m \u001b[38;5;28mself\u001b[39m\u001b[38;5;241m.\u001b[39mtype_pprinters:\n\u001b[1;32m    392\u001b[0m         \u001b[38;5;66;03m# printer registered in self.type_pprinters\u001b[39;00m\n\u001b[0;32m--> 393\u001b[0m         \u001b[38;5;28;01mreturn\u001b[39;00m \u001b[38;5;28;43mself\u001b[39;49m\u001b[38;5;241;43m.\u001b[39;49m\u001b[43mtype_pprinters\u001b[49m\u001b[43m[\u001b[49m\u001b[38;5;28;43mcls\u001b[39;49m\u001b[43m]\u001b[49m\u001b[43m(\u001b[49m\u001b[43mobj\u001b[49m\u001b[43m,\u001b[49m\u001b[43m \u001b[49m\u001b[38;5;28;43mself\u001b[39;49m\u001b[43m,\u001b[49m\u001b[43m \u001b[49m\u001b[43mcycle\u001b[49m\u001b[43m)\u001b[49m\n\u001b[1;32m    394\u001b[0m     \u001b[38;5;28;01melse\u001b[39;00m:\n\u001b[1;32m    395\u001b[0m         \u001b[38;5;66;03m# deferred printer\u001b[39;00m\n\u001b[1;32m    396\u001b[0m         printer \u001b[38;5;241m=\u001b[39m \u001b[38;5;28mself\u001b[39m\u001b[38;5;241m.\u001b[39m_in_deferred_types(\u001b[38;5;28mcls\u001b[39m)\n",
      "File \u001b[0;32m~/anaconda/envs/py310_clone/lib/python3.10/site-packages/IPython/lib/pretty.py:640\u001b[0m, in \u001b[0;36m_seq_pprinter_factory.<locals>.inner\u001b[0;34m(obj, p, cycle)\u001b[0m\n\u001b[1;32m    638\u001b[0m         p\u001b[38;5;241m.\u001b[39mtext(\u001b[38;5;124m'\u001b[39m\u001b[38;5;124m,\u001b[39m\u001b[38;5;124m'\u001b[39m)\n\u001b[1;32m    639\u001b[0m         p\u001b[38;5;241m.\u001b[39mbreakable()\n\u001b[0;32m--> 640\u001b[0m     \u001b[43mp\u001b[49m\u001b[38;5;241;43m.\u001b[39;49m\u001b[43mpretty\u001b[49m\u001b[43m(\u001b[49m\u001b[43mx\u001b[49m\u001b[43m)\u001b[49m\n\u001b[1;32m    641\u001b[0m \u001b[38;5;28;01mif\u001b[39;00m \u001b[38;5;28mlen\u001b[39m(obj) \u001b[38;5;241m==\u001b[39m \u001b[38;5;241m1\u001b[39m \u001b[38;5;129;01mand\u001b[39;00m \u001b[38;5;28misinstance\u001b[39m(obj, \u001b[38;5;28mtuple\u001b[39m):\n\u001b[1;32m    642\u001b[0m     \u001b[38;5;66;03m# Special case for 1-item tuples.\u001b[39;00m\n\u001b[1;32m    643\u001b[0m     p\u001b[38;5;241m.\u001b[39mtext(\u001b[38;5;124m'\u001b[39m\u001b[38;5;124m,\u001b[39m\u001b[38;5;124m'\u001b[39m)\n",
      "File \u001b[0;32m~/anaconda/envs/py310_clone/lib/python3.10/site-packages/IPython/lib/pretty.py:393\u001b[0m, in \u001b[0;36mRepresentationPrinter.pretty\u001b[0;34m(self, obj)\u001b[0m\n\u001b[1;32m    390\u001b[0m \u001b[38;5;28;01mfor\u001b[39;00m \u001b[38;5;28mcls\u001b[39m \u001b[38;5;129;01min\u001b[39;00m _get_mro(obj_class):\n\u001b[1;32m    391\u001b[0m     \u001b[38;5;28;01mif\u001b[39;00m \u001b[38;5;28mcls\u001b[39m \u001b[38;5;129;01min\u001b[39;00m \u001b[38;5;28mself\u001b[39m\u001b[38;5;241m.\u001b[39mtype_pprinters:\n\u001b[1;32m    392\u001b[0m         \u001b[38;5;66;03m# printer registered in self.type_pprinters\u001b[39;00m\n\u001b[0;32m--> 393\u001b[0m         \u001b[38;5;28;01mreturn\u001b[39;00m \u001b[38;5;28;43mself\u001b[39;49m\u001b[38;5;241;43m.\u001b[39;49m\u001b[43mtype_pprinters\u001b[49m\u001b[43m[\u001b[49m\u001b[38;5;28;43mcls\u001b[39;49m\u001b[43m]\u001b[49m\u001b[43m(\u001b[49m\u001b[43mobj\u001b[49m\u001b[43m,\u001b[49m\u001b[43m \u001b[49m\u001b[38;5;28;43mself\u001b[39;49m\u001b[43m,\u001b[49m\u001b[43m \u001b[49m\u001b[43mcycle\u001b[49m\u001b[43m)\u001b[49m\n\u001b[1;32m    394\u001b[0m     \u001b[38;5;28;01melse\u001b[39;00m:\n\u001b[1;32m    395\u001b[0m         \u001b[38;5;66;03m# deferred printer\u001b[39;00m\n\u001b[1;32m    396\u001b[0m         printer \u001b[38;5;241m=\u001b[39m \u001b[38;5;28mself\u001b[39m\u001b[38;5;241m.\u001b[39m_in_deferred_types(\u001b[38;5;28mcls\u001b[39m)\n",
      "File \u001b[0;32m~/anaconda/envs/py310_clone/lib/python3.10/site-packages/IPython/lib/pretty.py:640\u001b[0m, in \u001b[0;36m_seq_pprinter_factory.<locals>.inner\u001b[0;34m(obj, p, cycle)\u001b[0m\n\u001b[1;32m    638\u001b[0m         p\u001b[38;5;241m.\u001b[39mtext(\u001b[38;5;124m'\u001b[39m\u001b[38;5;124m,\u001b[39m\u001b[38;5;124m'\u001b[39m)\n\u001b[1;32m    639\u001b[0m         p\u001b[38;5;241m.\u001b[39mbreakable()\n\u001b[0;32m--> 640\u001b[0m     \u001b[43mp\u001b[49m\u001b[38;5;241;43m.\u001b[39;49m\u001b[43mpretty\u001b[49m\u001b[43m(\u001b[49m\u001b[43mx\u001b[49m\u001b[43m)\u001b[49m\n\u001b[1;32m    641\u001b[0m \u001b[38;5;28;01mif\u001b[39;00m \u001b[38;5;28mlen\u001b[39m(obj) \u001b[38;5;241m==\u001b[39m \u001b[38;5;241m1\u001b[39m \u001b[38;5;129;01mand\u001b[39;00m \u001b[38;5;28misinstance\u001b[39m(obj, \u001b[38;5;28mtuple\u001b[39m):\n\u001b[1;32m    642\u001b[0m     \u001b[38;5;66;03m# Special case for 1-item tuples.\u001b[39;00m\n\u001b[1;32m    643\u001b[0m     p\u001b[38;5;241m.\u001b[39mtext(\u001b[38;5;124m'\u001b[39m\u001b[38;5;124m,\u001b[39m\u001b[38;5;124m'\u001b[39m)\n",
      "File \u001b[0;32m~/anaconda/envs/py310_clone/lib/python3.10/site-packages/IPython/lib/pretty.py:410\u001b[0m, in \u001b[0;36mRepresentationPrinter.pretty\u001b[0;34m(self, obj)\u001b[0m\n\u001b[1;32m    407\u001b[0m                         \u001b[38;5;28;01mreturn\u001b[39;00m meth(obj, \u001b[38;5;28mself\u001b[39m, cycle)\n\u001b[1;32m    408\u001b[0m                 \u001b[38;5;28;01mif\u001b[39;00m \u001b[38;5;28mcls\u001b[39m \u001b[38;5;129;01mis\u001b[39;00m \u001b[38;5;129;01mnot\u001b[39;00m \u001b[38;5;28mobject\u001b[39m \\\n\u001b[1;32m    409\u001b[0m                         \u001b[38;5;129;01mand\u001b[39;00m \u001b[38;5;28mcallable\u001b[39m(\u001b[38;5;28mcls\u001b[39m\u001b[38;5;241m.\u001b[39m\u001b[38;5;18m__dict__\u001b[39m\u001b[38;5;241m.\u001b[39mget(\u001b[38;5;124m'\u001b[39m\u001b[38;5;124m__repr__\u001b[39m\u001b[38;5;124m'\u001b[39m)):\n\u001b[0;32m--> 410\u001b[0m                     \u001b[38;5;28;01mreturn\u001b[39;00m \u001b[43m_repr_pprint\u001b[49m\u001b[43m(\u001b[49m\u001b[43mobj\u001b[49m\u001b[43m,\u001b[49m\u001b[43m \u001b[49m\u001b[38;5;28;43mself\u001b[39;49m\u001b[43m,\u001b[49m\u001b[43m \u001b[49m\u001b[43mcycle\u001b[49m\u001b[43m)\u001b[49m\n\u001b[1;32m    412\u001b[0m     \u001b[38;5;28;01mreturn\u001b[39;00m _default_pprint(obj, \u001b[38;5;28mself\u001b[39m, cycle)\n\u001b[1;32m    413\u001b[0m \u001b[38;5;28;01mfinally\u001b[39;00m:\n",
      "File \u001b[0;32m~/anaconda/envs/py310_clone/lib/python3.10/site-packages/IPython/lib/pretty.py:778\u001b[0m, in \u001b[0;36m_repr_pprint\u001b[0;34m(obj, p, cycle)\u001b[0m\n\u001b[1;32m    776\u001b[0m \u001b[38;5;250m\u001b[39m\u001b[38;5;124;03m\"\"\"A pprint that just redirects to the normal repr function.\"\"\"\u001b[39;00m\n\u001b[1;32m    777\u001b[0m \u001b[38;5;66;03m# Find newlines and replace them with p.break_()\u001b[39;00m\n\u001b[0;32m--> 778\u001b[0m output \u001b[38;5;241m=\u001b[39m \u001b[38;5;28;43mrepr\u001b[39;49m\u001b[43m(\u001b[49m\u001b[43mobj\u001b[49m\u001b[43m)\u001b[49m\n\u001b[1;32m    779\u001b[0m lines \u001b[38;5;241m=\u001b[39m output\u001b[38;5;241m.\u001b[39msplitlines()\n\u001b[1;32m    780\u001b[0m \u001b[38;5;28;01mwith\u001b[39;00m p\u001b[38;5;241m.\u001b[39mgroup():\n",
      "File \u001b[0;32m~/anaconda/envs/py310_clone/lib/python3.10/site-packages/mosfit/modules/module.py:47\u001b[0m, in \u001b[0;36mModule.__repr__\u001b[0;34m(self)\u001b[0m\n\u001b[1;32m     45\u001b[0m     \u001b[38;5;28;01melse\u001b[39;00m:\n\u001b[1;32m     46\u001b[0m         dict_copy[key] \u001b[38;5;241m=\u001b[39m \u001b[38;5;28mself\u001b[39m\u001b[38;5;241m.\u001b[39m\u001b[38;5;18m__dict__\u001b[39m[key]\n\u001b[0;32m---> 47\u001b[0m \u001b[38;5;28;01mreturn\u001b[39;00m \u001b[43mjson\u001b[49m\u001b[38;5;241;43m.\u001b[39;49m\u001b[43mdumps\u001b[49m\u001b[43m(\u001b[49m\u001b[43mdict_copy\u001b[49m\u001b[43m)\u001b[49m\n",
      "File \u001b[0;32m~/anaconda/envs/py310_clone/lib/python3.10/json/__init__.py:231\u001b[0m, in \u001b[0;36mdumps\u001b[0;34m(obj, skipkeys, ensure_ascii, check_circular, allow_nan, cls, indent, separators, default, sort_keys, **kw)\u001b[0m\n\u001b[1;32m    226\u001b[0m \u001b[38;5;66;03m# cached encoder\u001b[39;00m\n\u001b[1;32m    227\u001b[0m \u001b[38;5;28;01mif\u001b[39;00m (\u001b[38;5;129;01mnot\u001b[39;00m skipkeys \u001b[38;5;129;01mand\u001b[39;00m ensure_ascii \u001b[38;5;129;01mand\u001b[39;00m\n\u001b[1;32m    228\u001b[0m     check_circular \u001b[38;5;129;01mand\u001b[39;00m allow_nan \u001b[38;5;129;01mand\u001b[39;00m\n\u001b[1;32m    229\u001b[0m     \u001b[38;5;28mcls\u001b[39m \u001b[38;5;129;01mis\u001b[39;00m \u001b[38;5;28;01mNone\u001b[39;00m \u001b[38;5;129;01mand\u001b[39;00m indent \u001b[38;5;129;01mis\u001b[39;00m \u001b[38;5;28;01mNone\u001b[39;00m \u001b[38;5;129;01mand\u001b[39;00m separators \u001b[38;5;129;01mis\u001b[39;00m \u001b[38;5;28;01mNone\u001b[39;00m \u001b[38;5;129;01mand\u001b[39;00m\n\u001b[1;32m    230\u001b[0m     default \u001b[38;5;129;01mis\u001b[39;00m \u001b[38;5;28;01mNone\u001b[39;00m \u001b[38;5;129;01mand\u001b[39;00m \u001b[38;5;129;01mnot\u001b[39;00m sort_keys \u001b[38;5;129;01mand\u001b[39;00m \u001b[38;5;129;01mnot\u001b[39;00m kw):\n\u001b[0;32m--> 231\u001b[0m     \u001b[38;5;28;01mreturn\u001b[39;00m \u001b[43m_default_encoder\u001b[49m\u001b[38;5;241;43m.\u001b[39;49m\u001b[43mencode\u001b[49m\u001b[43m(\u001b[49m\u001b[43mobj\u001b[49m\u001b[43m)\u001b[49m\n\u001b[1;32m    232\u001b[0m \u001b[38;5;28;01mif\u001b[39;00m \u001b[38;5;28mcls\u001b[39m \u001b[38;5;129;01mis\u001b[39;00m \u001b[38;5;28;01mNone\u001b[39;00m:\n\u001b[1;32m    233\u001b[0m     \u001b[38;5;28mcls\u001b[39m \u001b[38;5;241m=\u001b[39m JSONEncoder\n",
      "File \u001b[0;32m~/anaconda/envs/py310_clone/lib/python3.10/json/encoder.py:199\u001b[0m, in \u001b[0;36mJSONEncoder.encode\u001b[0;34m(self, o)\u001b[0m\n\u001b[1;32m    195\u001b[0m         \u001b[38;5;28;01mreturn\u001b[39;00m encode_basestring(o)\n\u001b[1;32m    196\u001b[0m \u001b[38;5;66;03m# This doesn't pass the iterator directly to ''.join() because the\u001b[39;00m\n\u001b[1;32m    197\u001b[0m \u001b[38;5;66;03m# exceptions aren't as detailed.  The list call should be roughly\u001b[39;00m\n\u001b[1;32m    198\u001b[0m \u001b[38;5;66;03m# equivalent to the PySequence_Fast that ''.join() would do.\u001b[39;00m\n\u001b[0;32m--> 199\u001b[0m chunks \u001b[38;5;241m=\u001b[39m \u001b[38;5;28;43mself\u001b[39;49m\u001b[38;5;241;43m.\u001b[39;49m\u001b[43miterencode\u001b[49m\u001b[43m(\u001b[49m\u001b[43mo\u001b[49m\u001b[43m,\u001b[49m\u001b[43m \u001b[49m\u001b[43m_one_shot\u001b[49m\u001b[38;5;241;43m=\u001b[39;49m\u001b[38;5;28;43;01mTrue\u001b[39;49;00m\u001b[43m)\u001b[49m\n\u001b[1;32m    200\u001b[0m \u001b[38;5;28;01mif\u001b[39;00m \u001b[38;5;129;01mnot\u001b[39;00m \u001b[38;5;28misinstance\u001b[39m(chunks, (\u001b[38;5;28mlist\u001b[39m, \u001b[38;5;28mtuple\u001b[39m)):\n\u001b[1;32m    201\u001b[0m     chunks \u001b[38;5;241m=\u001b[39m \u001b[38;5;28mlist\u001b[39m(chunks)\n",
      "File \u001b[0;32m~/anaconda/envs/py310_clone/lib/python3.10/json/encoder.py:257\u001b[0m, in \u001b[0;36mJSONEncoder.iterencode\u001b[0;34m(self, o, _one_shot)\u001b[0m\n\u001b[1;32m    252\u001b[0m \u001b[38;5;28;01melse\u001b[39;00m:\n\u001b[1;32m    253\u001b[0m     _iterencode \u001b[38;5;241m=\u001b[39m _make_iterencode(\n\u001b[1;32m    254\u001b[0m         markers, \u001b[38;5;28mself\u001b[39m\u001b[38;5;241m.\u001b[39mdefault, _encoder, \u001b[38;5;28mself\u001b[39m\u001b[38;5;241m.\u001b[39mindent, floatstr,\n\u001b[1;32m    255\u001b[0m         \u001b[38;5;28mself\u001b[39m\u001b[38;5;241m.\u001b[39mkey_separator, \u001b[38;5;28mself\u001b[39m\u001b[38;5;241m.\u001b[39mitem_separator, \u001b[38;5;28mself\u001b[39m\u001b[38;5;241m.\u001b[39msort_keys,\n\u001b[1;32m    256\u001b[0m         \u001b[38;5;28mself\u001b[39m\u001b[38;5;241m.\u001b[39mskipkeys, _one_shot)\n\u001b[0;32m--> 257\u001b[0m \u001b[38;5;28;01mreturn\u001b[39;00m \u001b[43m_iterencode\u001b[49m\u001b[43m(\u001b[49m\u001b[43mo\u001b[49m\u001b[43m,\u001b[49m\u001b[43m \u001b[49m\u001b[38;5;241;43m0\u001b[39;49m\u001b[43m)\u001b[49m\n",
      "File \u001b[0;32m~/anaconda/envs/py310_clone/lib/python3.10/json/encoder.py:179\u001b[0m, in \u001b[0;36mJSONEncoder.default\u001b[0;34m(self, o)\u001b[0m\n\u001b[1;32m    160\u001b[0m \u001b[38;5;28;01mdef\u001b[39;00m \u001b[38;5;21mdefault\u001b[39m(\u001b[38;5;28mself\u001b[39m, o):\n\u001b[1;32m    161\u001b[0m \u001b[38;5;250m    \u001b[39m\u001b[38;5;124;03m\"\"\"Implement this method in a subclass such that it returns\u001b[39;00m\n\u001b[1;32m    162\u001b[0m \u001b[38;5;124;03m    a serializable object for ``o``, or calls the base implementation\u001b[39;00m\n\u001b[1;32m    163\u001b[0m \u001b[38;5;124;03m    (to raise a ``TypeError``).\u001b[39;00m\n\u001b[0;32m   (...)\u001b[0m\n\u001b[1;32m    177\u001b[0m \n\u001b[1;32m    178\u001b[0m \u001b[38;5;124;03m    \"\"\"\u001b[39;00m\n\u001b[0;32m--> 179\u001b[0m     \u001b[38;5;28;01mraise\u001b[39;00m \u001b[38;5;167;01mTypeError\u001b[39;00m(\u001b[38;5;124mf\u001b[39m\u001b[38;5;124m'\u001b[39m\u001b[38;5;124mObject of type \u001b[39m\u001b[38;5;132;01m{\u001b[39;00mo\u001b[38;5;241m.\u001b[39m\u001b[38;5;18m__class__\u001b[39m\u001b[38;5;241m.\u001b[39m\u001b[38;5;18m__name__\u001b[39m\u001b[38;5;132;01m}\u001b[39;00m\u001b[38;5;124m \u001b[39m\u001b[38;5;124m'\u001b[39m\n\u001b[1;32m    180\u001b[0m                     \u001b[38;5;124mf\u001b[39m\u001b[38;5;124m'\u001b[39m\u001b[38;5;124mis not JSON serializable\u001b[39m\u001b[38;5;124m'\u001b[39m)\n",
      "\u001b[0;31mTypeError\u001b[0m: Object of type ndarray is not JSON serializable"
     ]
    }
   ],
   "source": [
    "model._modules"
   ]
  },
  {
   "cell_type": "code",
   "execution_count": 10,
   "id": "08adf129-7c98-426e-b530-df8d8f181494",
   "metadata": {
    "tags": []
   },
   "outputs": [
    {
     "ename": "ImportError",
     "evalue": "cannot import name 'Photometry' from 'mosfit' (/Users/anasofiauzsoy/anaconda/envs/py310_clone/lib/python3.10/site-packages/mosfit/__init__.py)",
     "output_type": "error",
     "traceback": [
      "\u001b[0;31m---------------------------------------------------------------------------\u001b[0m",
      "\u001b[0;31mImportError\u001b[0m                               Traceback (most recent call last)",
      "Input \u001b[0;32mIn [10]\u001b[0m, in \u001b[0;36m<cell line: 1>\u001b[0;34m()\u001b[0m\n\u001b[0;32m----> 1\u001b[0m \u001b[38;5;28;01mfrom\u001b[39;00m \u001b[38;5;21;01mmosfit\u001b[39;00m \u001b[38;5;28;01mimport\u001b[39;00m Photometry\n",
      "\u001b[0;31mImportError\u001b[0m: cannot import name 'Photometry' from 'mosfit' (/Users/anasofiauzsoy/anaconda/envs/py310_clone/lib/python3.10/site-packages/mosfit/__init__.py)"
     ]
    }
   ],
   "source": [
    "from mosfit import Photometry"
   ]
  },
  {
   "cell_type": "code",
   "execution_count": 25,
   "id": "f6d8662c-abe6-492c-b74e-e3e2e04c092b",
   "metadata": {
    "tags": []
   },
   "outputs": [
    {
     "ename": "AttributeError",
     "evalue": "module 'mosfit' has no attribute 'Photometry'",
     "output_type": "error",
     "traceback": [
      "\u001b[0;31m---------------------------------------------------------------------------\u001b[0m",
      "\u001b[0;31mAttributeError\u001b[0m                            Traceback (most recent call last)",
      "Input \u001b[0;32mIn [25]\u001b[0m, in \u001b[0;36m<cell line: 1>\u001b[0;34m()\u001b[0m\n\u001b[0;32m----> 1\u001b[0m \u001b[43mmosfit\u001b[49m\u001b[38;5;241;43m.\u001b[39;49m\u001b[43mPhotometry\u001b[49m()\n",
      "\u001b[0;31mAttributeError\u001b[0m: module 'mosfit' has no attribute 'Photometry'"
     ]
    }
   ],
   "source": [
    "mosfit.Photometry()"
   ]
  },
  {
   "cell_type": "code",
   "execution_count": null,
   "id": "210cf7e1-f62c-40a3-9166-eac51f6bfcaa",
   "metadata": {},
   "outputs": [],
   "source": []
  }
 ],
 "metadata": {
  "kernelspec": {
   "display_name": "Python 3 (ipykernel)",
   "language": "python",
   "name": "python3"
  },
  "language_info": {
   "codemirror_mode": {
    "name": "ipython",
    "version": 3
   },
   "file_extension": ".py",
   "mimetype": "text/x-python",
   "name": "python",
   "nbconvert_exporter": "python",
   "pygments_lexer": "ipython3",
   "version": "3.10.0"
  }
 },
 "nbformat": 4,
 "nbformat_minor": 5
}
