{
 "cells": [
  {
   "cell_type": "code",
   "execution_count": 1,
   "id": "e7aafa1b-817d-41aa-8b38-af43a6b1769d",
   "metadata": {
    "tags": []
   },
   "outputs": [],
   "source": [
    "from objects import *\n",
    "import numpy as np\n",
    "import matplotlib.pyplot as plt"
   ]
  },
  {
   "cell_type": "code",
   "execution_count": 2,
   "id": "19a790fb-b246-42c5-8b85-571ed7e23c28",
   "metadata": {
    "tags": []
   },
   "outputs": [],
   "source": [
    "bands = ['u', 'g', 'r', 'i','z']\n",
    "survey = Survey('fake_survey', bands, 0.5)"
   ]
  },
  {
   "cell_type": "code",
   "execution_count": 3,
   "id": "8f8c6db9-bb88-40aa-9555-325d4fb0adda",
   "metadata": {
    "tags": []
   },
   "outputs": [
    {
     "data": {
      "text/plain": [
       "[2.7547482345284404,\n",
       " 3.2547482345284404,\n",
       " 3.7547482345284404,\n",
       " 4.25474823452844,\n",
       " 4.75474823452844,\n",
       " 5.25474823452844,\n",
       " 5.75474823452844,\n",
       " 6.25474823452844,\n",
       " 6.75474823452844,\n",
       " 7.25474823452844]"
      ]
     },
     "execution_count": 3,
     "metadata": {},
     "output_type": "execute_result"
    }
   ],
   "source": [
    "timepoints = survey.generate_sample_times(10)\n",
    "timepoints"
   ]
  },
  {
   "cell_type": "code",
   "execution_count": 4,
   "id": "f2856bee-cabd-4079-93ad-3d045a317880",
   "metadata": {
    "tags": []
   },
   "outputs": [],
   "source": [
    "fake_fluxes = 10 * np.random.random_sample((len(bands), len(timepoints)))\n",
    "fake_flux_errors = 0.1 * np.ones_like(fake_fluxes)"
   ]
  },
  {
   "cell_type": "code",
   "execution_count": 5,
   "id": "f1efd75a-314d-4491-9151-e6d8da19529b",
   "metadata": {
    "tags": []
   },
   "outputs": [],
   "source": [
    "lc = LightCurve(bands, timepoints, fake_fluxes, fake_flux_errors, survey = 'lsst')"
   ]
  },
  {
   "cell_type": "code",
   "execution_count": 6,
   "id": "2a42a55f-fef2-4293-b2ee-eca34fff79ff",
   "metadata": {
    "tags": []
   },
   "outputs": [
    {
     "data": {
      "text/plain": [
       "<matplotlib.colorbar.Colorbar at 0x11184ffd0>"
      ]
     },
     "execution_count": 6,
     "metadata": {},
     "output_type": "execute_result"
    },
    {
     "data": {
      "image/png": "[encoded data removed]",
      "text/plain": [
       "<Figure size 640x480 with 2 Axes>"
      ]
     },
     "metadata": {},
     "output_type": "display_data"
    }
   ],
   "source": [
    "plt.imshow(fake_fluxes)\n",
    "plt.colorbar()"
   ]
  },
  {
   "cell_type": "code",
   "execution_count": null,
   "id": "1515aa0d-825d-4dd1-bc0e-b494838cb6fe",
   "metadata": {},
   "outputs": [],
   "source": [
    "max_times = np.zeros(len(bands))\n",
    "max_vals = np.zeros(len(bands))\n",
    "\n",
    "for i in range(len(bands)):\n",
    "    max_indexes[i] = np.argmax("
   ]
  },
  {
   "cell_type": "code",
   "execution_count": 9,
   "id": "bc23ef8a-db59-4f8e-a7d8-1034ce8b5896",
   "metadata": {
    "tags": []
   },
   "outputs": [
    {
     "data": {
      "text/plain": [
       "46"
      ]
     },
     "execution_count": 9,
     "metadata": {},
     "output_type": "execute_result"
    }
   ],
   "source": [
    "np.argmax(fake_fluxes)"
   ]
  },
  {
   "cell_type": "code",
   "execution_count": 7,
   "id": "d80b6f7c-76a7-4dc0-be63-05552606d745",
   "metadata": {
    "tags": []
   },
   "outputs": [
    {
     "ename": "TypeError",
     "evalue": "argmax() got an unexpected keyword argument 'dims'",
     "output_type": "error",
     "traceback": [
      "\u001b[0;31m---------------------------------------------------------------------------\u001b[0m",
      "\u001b[0;31mTypeError\u001b[0m                                 Traceback (most recent call last)",
      "Input \u001b[0;32mIn [7]\u001b[0m, in \u001b[0;36m<cell line: 1>\u001b[0;34m()\u001b[0m\n\u001b[0;32m----> 1\u001b[0m \u001b[43mlc\u001b[49m\u001b[38;5;241;43m.\u001b[39;49m\u001b[43mfind_max_flux\u001b[49m\u001b[43m(\u001b[49m\u001b[43m)\u001b[49m\n",
      "File \u001b[0;32m~/Desktop/School_Stuff/survey-agnostic-sn-vae/src/survey_agnostic_sn_vae/data_generation/objects.py:32\u001b[0m, in \u001b[0;36mLightCurve.find_max_flux\u001b[0;34m(self, band)\u001b[0m\n\u001b[1;32m     30\u001b[0m \u001b[38;5;28;01mdef\u001b[39;00m \u001b[38;5;21mfind_max_flux\u001b[39m(\u001b[38;5;28mself\u001b[39m, band \u001b[38;5;241m=\u001b[39m \u001b[38;5;28;01mNone\u001b[39;00m):\n\u001b[1;32m     31\u001b[0m     \u001b[38;5;28;01mif\u001b[39;00m band \u001b[38;5;241m==\u001b[39m \u001b[38;5;28;01mNone\u001b[39;00m:\n\u001b[0;32m---> 32\u001b[0m         best_indexes \u001b[38;5;241m=\u001b[39m \u001b[43mnp\u001b[49m\u001b[38;5;241;43m.\u001b[39;49m\u001b[43margmax\u001b[49m\u001b[43m(\u001b[49m\u001b[38;5;28;43mself\u001b[39;49m\u001b[38;5;241;43m.\u001b[39;49m\u001b[43mflux\u001b[49m\u001b[43m,\u001b[49m\u001b[43m \u001b[49m\u001b[43mdims\u001b[49m\u001b[38;5;241;43m=\u001b[39;49m\u001b[38;5;241;43m1\u001b[39;49m\u001b[43m)\u001b[49m\n\u001b[1;32m     33\u001b[0m         \u001b[38;5;28;01mreturn\u001b[39;00m best_indexes\n",
      "File \u001b[0;32m<__array_function__ internals>:198\u001b[0m, in \u001b[0;36margmax\u001b[0;34m(*args, **kwargs)\u001b[0m\n",
      "\u001b[0;31mTypeError\u001b[0m: argmax() got an unexpected keyword argument 'dims'"
     ]
    }
   ],
   "source": [
    "lc.find_max_flux()"
   ]
  },
  {
   "cell_type": "code",
   "execution_count": null,
   "id": "f6d8662c-abe6-492c-b74e-e3e2e04c092b",
   "metadata": {},
   "outputs": [],
   "source": []
  }
 ],
 "metadata": {
  "kernelspec": {
   "display_name": "Python 3 (ipykernel)",
   "language": "python",
   "name": "python3"
  },
  "language_info": {
   "codemirror_mode": {
    "name": "ipython",
    "version": 3
   },
   "file_extension": ".py",
   "mimetype": "text/x-python",
   "name": "python",
   "nbconvert_exporter": "python",
   "pygments_lexer": "ipython3",
   "version": "3.10.11"
  }
 },
 "nbformat": 4,
 "nbformat_minor": 5
}
